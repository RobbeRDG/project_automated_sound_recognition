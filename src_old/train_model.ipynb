{
  "cells": [
    {
      "cell_type": "code",
      "execution_count": null,
      "metadata": {
        "id": "F9NAOasG6CIi"
      },
      "outputs": [],
      "source": [
        "# Import dependencies\n",
        "import os as os\n",
        "import numpy as np\n",
        "import soundfile as sf\n",
        "import matplotlib.pyplot as plt\n",
        "from audiomentations import Compose, AddGaussianNoise, TimeStretch, PitchShift, Shift\n",
        "from tqdm import tqdm\n",
        "import wandb\n",
        "from wandb.keras import WandbMetricsLogger\n",
        "\n",
        "import tensorflow as tf\n",
        "from tensorflow import keras \n",
        "from tensorflow.keras import layers\n",
        "from tensorflow.keras import optimizers\n",
        "from tensorflow.keras import callbacks\n",
        "from tensorflow.keras import regularizers\n",
        "\n",
        "from util import config"
      ]
    },
    {
      "cell_type": "markdown",
      "metadata": {},
      "source": [
        "# Setup"
      ]
    },
    {
      "cell_type": "code",
      "execution_count": null,
      "metadata": {},
      "outputs": [],
      "source": [
        "# Initialize a new W&B run\n",
        "wandb.init(\n",
        "    config={\n",
        "        \"bs\": 12\n",
        "        },\n",
        ")"
      ]
    },
    {
      "cell_type": "markdown",
      "metadata": {
        "id": "5qnKqI8n99IG"
      },
      "source": [
        "# Build and train the model"
      ]
    },
    {
      "cell_type": "code",
      "execution_count": null,
      "metadata": {
        "colab": {
          "base_uri": "https://localhost:8080/"
        },
        "id": "v-kNP1eiC6p_",
        "outputId": "f0a6e78a-7937-41c2-9479-c4fea81e4159"
      },
      "outputs": [],
      "source": [
        "# Define model\n",
        "model = keras.Sequential()\n",
        "\n",
        "# First convolutional layer\n",
        "model.add(layers.Conv2D(16, kernel_size=(7, 7), strides=(1, 1), padding='same', kernel_regularizer=regularizers.L2(0.01), input_shape=(np.shape(X_tr)[1], np.shape(X_tr)[2], 1), name='conv1'))\n",
        "model.add(layers.BatchNormalization(synchronized=True, name='bn1'))\n",
        "model.add(layers.Activation('relu', name='relu1'))\n",
        "\n",
        "# Second convolutional layer\n",
        "model.add(layers.Conv2D(16, kernel_size=(7, 7), strides=(1, 1), padding='same', kernel_regularizer=regularizers.L2(0.01), name='conv2'))\n",
        "model.add(layers.BatchNormalization(synchronized=True, name='bn2'))\n",
        "model.add(layers.Activation('relu', name='relu2'))\n",
        "model.add(layers.MaxPooling2D(pool_size=(5, 5), name='pool2'))\n",
        "model.add(layers.Dropout(0.3, name='drop2'))\n",
        "\n",
        "# Third convolutional layer\n",
        "model.add(layers.Conv2D(32, kernel_size=(7, 7), strides=(1, 1), padding='same', kernel_regularizer=regularizers.L2(0.01), name='conv3'))\n",
        "model.add(layers.BatchNormalization(synchronized=True, name='bn3'))\n",
        "model.add(layers.Activation('relu', name='relu3'))\n",
        "model.add(layers.MaxPooling2D(pool_size=(4, 100), name='pool3'))\n",
        "model.add(layers.Dropout(0.3, name='drop3'))\n",
        "\n",
        "# Flatten layer\n",
        "model.add(layers.Flatten(name='flatten1'))\n",
        "\n",
        "# First dense layer\n",
        "model.add(layers.Dense(100, kernel_regularizer=regularizers.L2(0.01), name='fc1'))\n",
        "model.add(layers.Activation('relu', name='relu4'))\n",
        "model.add(layers.Dropout(0.3, name='drop4'))\n",
        "\n",
        "# Output layer\n",
        "model.add(layers.Dense(len(config.labels), kernel_regularizer=regularizers.L2(0.01), name='main_out'))\n",
        "model.add(layers.Activation('softmax', name='softmax1'))\n",
        "\n",
        "# Define the optimizer\n",
        "adamOwn = optimizers.Adam(learning_rate=0.001, beta_1=0.9, beta_2=0.999, decay=0.0, amsgrad=False)\n",
        "\n",
        "# Compile the model\n",
        "model.compile(optimizer=adamOwn, loss='SparseCategoricalCrossentropy', metrics=['accuracy'])\n",
        "\n",
        "# Print the model summary\n",
        "print(model.summary())"
      ]
    },
    {
      "cell_type": "code",
      "execution_count": null,
      "metadata": {
        "colab": {
          "base_uri": "https://localhost:8080/"
        },
        "id": "DCT-zjiAGIz4",
        "outputId": "98c1bd7b-c000-43c5-d5a7-57eab1545398"
      },
      "outputs": [],
      "source": [
        "# Train the model\n",
        "model_log = model.fit(\n",
        "    X_tr, \n",
        "    Y_tr, \n",
        "    validation_data=(X_val, Y_val),\n",
        "    batch_size=16,\n",
        "    epochs=200, \n",
        "    callbacks = [WandbMetricsLogger()]\n",
        ")"
      ]
    },
    {
      "cell_type": "code",
      "execution_count": null,
      "metadata": {
        "colab": {
          "base_uri": "https://localhost:8080/",
          "height": 333
        },
        "id": "h-0MpBtmUqDq",
        "outputId": "470d74b8-c7f3-4922-8494-b98533d78d2f"
      },
      "outputs": [],
      "source": [
        "# Plot the model log\n",
        "plt.figure()\n",
        "plt.plot(model_log.history['loss'])\n",
        "plt.plot(model_log.history['val_loss'])\n",
        "plt.title('Model loss')\n",
        "plt.ylabel('Loss')\n",
        "plt.xlabel('Epoch')\n",
        "plt.legend(['Train', 'Val'], loc='upper left')"
      ]
    }
  ],
  "metadata": {
    "accelerator": "GPU",
    "colab": {
      "provenance": []
    },
    "kernelspec": {
      "display_name": "Python 3.10.6 64-bit",
      "language": "python",
      "name": "python3"
    },
    "language_info": {
      "name": "python",
      "version": "3.10.6"
    },
    "vscode": {
      "interpreter": {
        "hash": "916dbcbb3f70747c44a77c7bcd40155683ae19c65e1c03b4aa3499c5328201f1"
      }
    }
  },
  "nbformat": 4,
  "nbformat_minor": 0
}
