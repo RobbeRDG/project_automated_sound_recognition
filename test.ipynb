{
 "cells": [
  {
   "cell_type": "code",
   "execution_count": 4,
   "metadata": {},
   "outputs": [
    {
     "ename": "ValueError",
     "evalue": "Exception encountered when calling layer 'mix_up_2' (type MixUp).\n\nMixUp received a single image to `call`.  The layer relies on combining multiple examples, and as such will not behave as expected.  Please call the layer with 2 or more samples.\n\nCall arguments received by layer 'mix_up_2' (type MixUp):\n  • inputs=['tf.Tensor(shape=(49, 40), dtype=float32)', 'tf.Tensor(shape=(49, 40), dtype=float32)']\n  • training=[['1', '0', '0'], ['0', '1', '0']]",
     "output_type": "error",
     "traceback": [
      "\u001b[0;31m---------------------------------------------------------------------------\u001b[0m",
      "\u001b[0;31mValueError\u001b[0m                                Traceback (most recent call last)",
      "Cell \u001b[0;32mIn [4], line 15\u001b[0m\n\u001b[1;32m      6\u001b[0m images \u001b[39m=\u001b[39m [\n\u001b[1;32m      7\u001b[0m     np\u001b[39m.\u001b[39mload(\u001b[39m'\u001b[39m\u001b[39m/home/robbe/code/school/2022-2023/Sem1/applied_ai_academic_perspectives/ASR/project_automated_sound_recognition/data/train/ex2/spec_augment/metro-vienna-59-1752-9-a-4.npy\u001b[39m\u001b[39m'\u001b[39m),\n\u001b[1;32m      8\u001b[0m     np\u001b[39m.\u001b[39mload(\u001b[39m'\u001b[39m\u001b[39m/home/robbe/code/school/2022-2023/Sem1/applied_ai_academic_perspectives/ASR/project_automated_sound_recognition/data/train/ex2/spec_augment/metro-vienna-59-1752-9-a-0.npy\u001b[39m\u001b[39m'\u001b[39m)\n\u001b[1;32m      9\u001b[0m ]\n\u001b[1;32m     11\u001b[0m labels \u001b[39m=\u001b[39m [\n\u001b[1;32m     12\u001b[0m     [\u001b[39m1\u001b[39m,\u001b[39m0\u001b[39m,\u001b[39m0\u001b[39m],\n\u001b[1;32m     13\u001b[0m     [\u001b[39m0\u001b[39m,\u001b[39m1\u001b[39m,\u001b[39m0\u001b[39m]\n\u001b[1;32m     14\u001b[0m ]\n\u001b[0;32m---> 15\u001b[0m test \u001b[39m=\u001b[39m mixup(images,labels)\n",
      "File \u001b[0;32m~/miniconda3/envs/project_asr/lib/python3.10/site-packages/keras/utils/traceback_utils.py:70\u001b[0m, in \u001b[0;36mfilter_traceback.<locals>.error_handler\u001b[0;34m(*args, **kwargs)\u001b[0m\n\u001b[1;32m     67\u001b[0m     filtered_tb \u001b[39m=\u001b[39m _process_traceback_frames(e\u001b[39m.\u001b[39m__traceback__)\n\u001b[1;32m     68\u001b[0m     \u001b[39m# To get the full stack trace, call:\u001b[39;00m\n\u001b[1;32m     69\u001b[0m     \u001b[39m# `tf.debugging.disable_traceback_filtering()`\u001b[39;00m\n\u001b[0;32m---> 70\u001b[0m     \u001b[39mraise\u001b[39;00m e\u001b[39m.\u001b[39mwith_traceback(filtered_tb) \u001b[39mfrom\u001b[39;00m \u001b[39mNone\u001b[39m\n\u001b[1;32m     71\u001b[0m \u001b[39mfinally\u001b[39;00m:\n\u001b[1;32m     72\u001b[0m     \u001b[39mdel\u001b[39;00m filtered_tb\n",
      "File \u001b[0;32m~/miniconda3/envs/project_asr/lib/python3.10/site-packages/keras_cv/layers/preprocessing/mix_up.py:77\u001b[0m, in \u001b[0;36mMixUp._augment\u001b[0;34m(self, inputs)\u001b[0m\n\u001b[1;32m     76\u001b[0m \u001b[39mdef\u001b[39;00m \u001b[39m_augment\u001b[39m(\u001b[39mself\u001b[39m, inputs):\n\u001b[0;32m---> 77\u001b[0m     \u001b[39mraise\u001b[39;00m \u001b[39mValueError\u001b[39;00m(\n\u001b[1;32m     78\u001b[0m         \u001b[39m\"\u001b[39m\u001b[39mMixUp received a single image to `call`.  The layer relies on \u001b[39m\u001b[39m\"\u001b[39m\n\u001b[1;32m     79\u001b[0m         \u001b[39m\"\u001b[39m\u001b[39mcombining multiple examples, and as such will not behave as \u001b[39m\u001b[39m\"\u001b[39m\n\u001b[1;32m     80\u001b[0m         \u001b[39m\"\u001b[39m\u001b[39mexpected.  Please call the layer with 2 or more samples.\u001b[39m\u001b[39m\"\u001b[39m\n\u001b[1;32m     81\u001b[0m     )\n",
      "\u001b[0;31mValueError\u001b[0m: Exception encountered when calling layer 'mix_up_2' (type MixUp).\n\nMixUp received a single image to `call`.  The layer relies on combining multiple examples, and as such will not behave as expected.  Please call the layer with 2 or more samples.\n\nCall arguments received by layer 'mix_up_2' (type MixUp):\n  • inputs=['tf.Tensor(shape=(49, 40), dtype=float32)', 'tf.Tensor(shape=(49, 40), dtype=float32)']\n  • training=[['1', '0', '0'], ['0', '1', '0']]"
     ]
    }
   ],
   "source": [
    "from keras_cv.layers.preprocessing import MixUp\n",
    "import numpy as np\n",
    "\n",
    "mixup = MixUp(alpha = 0.2, seed  = 10)\n",
    "\n",
    "images = [\n",
    "    np.load('/home/robbe/code/school/2022-2023/Sem1/applied_ai_academic_perspectives/ASR/project_automated_sound_recognition/data/train/ex2/spec_augment/metro-vienna-59-1752-9-a-4.npy'),\n",
    "    np.load('/home/robbe/code/school/2022-2023/Sem1/applied_ai_academic_perspectives/ASR/project_automated_sound_recognition/data/train/ex2/spec_augment/metro-vienna-59-1752-9-a-0.npy')\n",
    "]\n",
    "\n",
    "labels = [\n",
    "    [1,0,0],\n",
    "    [0,1,0]\n",
    "]\n",
    "test = mixup(images,labels)"
   ]
  }
 ],
 "metadata": {
  "kernelspec": {
   "display_name": "Python 3.10.8 ('project_asr')",
   "language": "python",
   "name": "python3"
  },
  "language_info": {
   "codemirror_mode": {
    "name": "ipython",
    "version": 3
   },
   "file_extension": ".py",
   "mimetype": "text/x-python",
   "name": "python",
   "nbconvert_exporter": "python",
   "pygments_lexer": "ipython3",
   "version": "3.10.8"
  },
  "orig_nbformat": 4,
  "vscode": {
   "interpreter": {
    "hash": "39736b081602dbe553d962108acb9ad6c9b80c2cc50f1ad93c6f52483ab79e7e"
   }
  }
 },
 "nbformat": 4,
 "nbformat_minor": 2
}
