{
  "cells": [
    {
      "cell_type": "code",
      "execution_count": null,
      "metadata": {
        "id": "F9NAOasG6CIi"
      },
      "outputs": [],
      "source": [
        "# Import dependencies\n",
        "import os as os\n",
        "import numpy as np\n",
        "import soundfile as sf\n",
        "import matplotlib.pyplot as plt\n",
        "import tensorflow as tf\n",
        "from tensorflow import keras \n",
        "from tensorflow.keras import layers\n",
        "from tensorflow.keras import optimizers\n",
        "from tensorflow.keras import callbacks\n",
        "from tensorflow.keras import regularizers\n",
        "from audiomentations import Compose, AddGaussianNoise, TimeStretch, PitchShift, Shift\n",
        "from tqdm import tqdm\n",
        "from util import config"
      ]
    },
    {
      "cell_type": "markdown",
      "metadata": {
        "id": "GFkGSbLy2zTv"
      },
      "source": [
        "# Offline Data Augmentation"
      ]
    },
    {
      "cell_type": "markdown",
      "metadata": {},
      "source": [
        "## Step 1: Apply the selected augmentations from the audiomentations library"
      ]
    },
    {
      "cell_type": "code",
      "execution_count": null,
      "metadata": {
        "id": "v8miR2VV2skO"
      },
      "outputs": [],
      "source": [
        "# Number of augmented copies to be generated\n",
        "n_copies = 5\n",
        "\n",
        "# Set the audiomentations config\n",
        "# All selected augmentations are set to their default recommended parameters\n",
        "audiomentations_config = {\n",
        "    \"augmentations\": Compose([\n",
        "        PitchShift(min_semitones=-4, max_semitones=4, p=0.5),\n",
        "        AddGaussianNoise(min_amplitude=0.001, max_amplitude=0.015, p=0.5),\n",
        "        TimeStretch(min_rate=0.8, max_rate=1.25, p=0.5),\n",
        "        Shift(min_fraction=-0.5, max_fraction=0.5, p=0.5),\n",
        "    ])\n",
        "}\n",
        "\n",
        "# Set the offline specaugment config\n",
        "specaugment_config = {\n",
        "    \"configuration\": {\n",
        "        'mask_fraction_min':0.01,\n",
        "        'mask_fraction_max':0.02,\n",
        "        'mask_fraction_min_time':0.04,\n",
        "        'mask_fraction_max_time':0.04,\n",
        "        'p_spec_augment':0.5,\n",
        "        'fill_val':0,\n",
        "        'num_freq_lines':5,\n",
        "        'num_time_lines':3,\n",
        "    }\n",
        "}\n",
        "\n"
      ]
    },
    {
      "cell_type": "code",
      "execution_count": null,
      "metadata": {
        "colab": {
          "base_uri": "https://localhost:8080/"
        },
        "id": "EEs-0GD42sqP",
        "outputId": "7a317dce-c3ee-464f-c9fb-1ce01cb75ce1"
      },
      "outputs": [],
      "source": [
        "\n",
        "\n"
      ]
    },
    {
      "cell_type": "markdown",
      "metadata": {},
      "source": [
        "## Step 2: Apply the remaining augmentations with the audiomentations spec_augment_offline function"
      ]
    },
    {
      "cell_type": "code",
      "execution_count": null,
      "metadata": {
        "id": "uzZ4nQ1Wp2cj"
      },
      "outputs": [],
      "source": [
        "# Configuration for spec augment:\n",
        "# Parameters set similarly to the default example\n",
        "spec_augment_offline_configuration = {\n",
        "    'mask_fraction_min':0.01,\n",
        "    'mask_fraction_max':0.02,\n",
        "    'mask_fraction_min_time':0.04,\n",
        "    'mask_fraction_max_time':0.04,\n",
        "    'p_spec_augment':0.5,\n",
        "    'fill_val':0,\n",
        "    'num_freq_lines':5,\n",
        "    'num_time_lines':3,\n",
        "}"
      ]
    },
    {
      "cell_type": "markdown",
      "metadata": {
        "id": "zfyidcwZ3xD_"
      },
      "source": [
        "End of data augmentation demo"
      ]
    },
    {
      "cell_type": "code",
      "execution_count": null,
      "metadata": {
        "id": "rIuUYY2IJ5fU"
      },
      "outputs": [],
      "source": []
    },
    {
      "cell_type": "code",
      "execution_count": null,
      "metadata": {
        "id": "gOlVrdtk98aI"
      },
      "outputs": [],
      "source": [
        "# Create training, validation and test set (50% train, 25% val, 25% test)\n",
        "[X_tr, X_val, X_te, Y_tr, Y_val, Y_te] = featextract.create_tr_val_te(X_seg, Y_seg, [0.5, 0.25, 0.25])\n",
        "# Add channel axis\n",
        "[X_tr, X_val, X_te] = featextract.add_channel_axis(X_tr, X_val, X_te)"
      ]
    },
    {
      "cell_type": "markdown",
      "metadata": {
        "id": "5qnKqI8n99IG"
      },
      "source": [
        "# Build and train the model"
      ]
    },
    {
      "cell_type": "code",
      "execution_count": null,
      "metadata": {
        "colab": {
          "base_uri": "https://localhost:8080/"
        },
        "id": "v-kNP1eiC6p_",
        "outputId": "f0a6e78a-7937-41c2-9479-c4fea81e4159"
      },
      "outputs": [],
      "source": [
        "# Define model\n",
        "model = keras.Sequential()\n",
        "\n",
        "# First convolutional layer\n",
        "model.add(layers.Conv2D(64, kernel_size=(5, 5), strides=(1, 1), padding='same', kernel_regularizer=regularizers.L2(0.01), input_shape=(np.shape(X_tr)[1], np.shape(X_tr)[2], 1), name='conv1'))\n",
        "model.add(layers.Activation('relu', name='relu1'))\n",
        "model.add(layers.MaxPooling2D(pool_size=(1, 4), name='pool1'))\n",
        "model.add(layers.Dropout(0.5, name='drop1'))\n",
        "# Second convolutional layer\n",
        "model.add(layers.Conv2D(32, kernel_size=(5, 5), strides=(1, 1), padding='same', kernel_regularizer=regularizers.L2(0.01), name='conv2'))\n",
        "model.add(layers.Activation('relu', name='relu2'))\n",
        "model.add(layers.MaxPooling2D(pool_size=(1, 4), name='pool2'))\n",
        "model.add(layers.Dropout(0.5, name='drop2'))\n",
        "# Third convolutional layer\n",
        "model.add(layers.Conv2D(16, kernel_size=(5, 5), strides=(1, 1), padding='same', kernel_regularizer=regularizers.L2(0.01), name='conv3'))\n",
        "model.add(layers.Activation('relu', name='relu3'))\n",
        "model.add(layers.MaxPooling2D(pool_size=(1, 4), name='pool3'))\n",
        "model.add(layers.Dropout(0.5, name='drop3'))\n",
        "# Flatten layer\n",
        "model.add(layers.Flatten(name='flatten1'))\n",
        "# First dense layer\n",
        "model.add(layers.Dense(16, kernel_regularizer=regularizers.L2(0.01), name='fc1'))\n",
        "model.add(layers.Activation('relu', name='relu4'))\n",
        "model.add(layers.Dropout(0.2, name='drop4'))\n",
        "# Output layer\n",
        "model.add(layers.Dense(len(datasetconf['classNames']), kernel_regularizer=regularizers.L2(0.01), name='main_out'))\n",
        "model.add(layers.Activation('softmax', name='softmax1'))\n",
        "# Define the compiler\n",
        "adamOwn = optimizers.Adam(learning_rate=0.001, beta_1=0.9, beta_2=0.999, decay=0.0, amsgrad=False)\n",
        "# Compile the model\n",
        "model.compile(optimizer=adamOwn, loss='SparseCategoricalCrossentropy', metrics=['accuracy'])\n",
        "# Print the model summary\n",
        "\n",
        "print(model.summary())"
      ]
    },
    {
      "cell_type": "code",
      "execution_count": null,
      "metadata": {
        "colab": {
          "base_uri": "https://localhost:8080/"
        },
        "id": "DCT-zjiAGIz4",
        "outputId": "98c1bd7b-c000-43c5-d5a7-57eab1545398"
      },
      "outputs": [],
      "source": [
        "# Train the model\n",
        "model_log = model.fit(X_tr, Y_tr, validation_data=(X_val, Y_val), batch_size=32, epochs=50, verbose=1)"
      ]
    },
    {
      "cell_type": "code",
      "execution_count": null,
      "metadata": {
        "colab": {
          "base_uri": "https://localhost:8080/",
          "height": 333
        },
        "id": "h-0MpBtmUqDq",
        "outputId": "470d74b8-c7f3-4922-8494-b98533d78d2f"
      },
      "outputs": [],
      "source": [
        "# Plot the model log\n",
        "plt.figure()\n",
        "plt.plot(model_log.history['loss'])\n",
        "plt.plot(model_log.history['val_loss'])\n",
        "plt.title('Model loss')\n",
        "plt.ylabel('Loss')\n",
        "plt.xlabel('Epoch')\n",
        "plt.legend(['Train', 'Val'], loc='upper left')"
      ]
    }
  ],
  "metadata": {
    "accelerator": "GPU",
    "colab": {
      "provenance": []
    },
    "kernelspec": {
      "display_name": "Python 3",
      "name": "python3"
    },
    "language_info": {
      "name": "python"
    }
  },
  "nbformat": 4,
  "nbformat_minor": 0
}
