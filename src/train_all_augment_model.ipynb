{
 "cells": [
  {
   "cell_type": "code",
   "execution_count": 1,
   "metadata": {},
   "outputs": [],
   "source": [
    "from os.path import join\n",
    "\n",
    "def setup_file_system(in_colab):\n",
    "    if in_colab:\n",
    "        from google.colab import drive\n",
    "\n",
    "        # Set the base and mount path\n",
    "        MOUNT_PATH_DRIVE = '/content/drive'\n",
    "        BASE_PATH = join(\n",
    "            MOUNT_PATH_DRIVE, \n",
    "            \"MyDrive/project_asr\"\n",
    "        )\n",
    "\n",
    "        # Mount the google drive\n",
    "        drive.mount(MOUNT_PATH_DRIVE)\n",
    "\n",
    "        return BASE_PATH\n",
    "\n",
    "    else:\n",
    "        return \"/workspaces/project_automated_sound_recognition\""
   ]
  },
  {
   "cell_type": "code",
   "execution_count": 2,
   "metadata": {},
   "outputs": [],
   "source": [
    "import sys\n",
    "from os import chdir\n",
    "from os.path import join\n",
    "\n",
    "# Method to check if the notebook is running in colab or local\n",
    "IN_COLAB = 'google.colab' in sys.modules\n",
    "\n",
    "# Set the base path of the project\n",
    "BASE_PATH = setup_file_system(IN_COLAB)\n",
    "\n",
    "# Set the base path of the project\n",
    "chdir(join(BASE_PATH, \"src/\"))"
   ]
  },
  {
   "cell_type": "code",
   "execution_count": 3,
   "metadata": {},
   "outputs": [
    {
     "name": "stderr",
     "output_type": "stream",
     "text": [
      "/usr/local/lib/python3.10/dist-packages/tqdm/auto.py:22: TqdmWarning: IProgress not found. Please update jupyter and ipywidgets. See https://ipywidgets.readthedocs.io/en/stable/user_install.html\n",
      "  from .autonotebook import tqdm as notebook_tqdm\n"
     ]
    }
   ],
   "source": [
    "%load_ext autoreload\n",
    "%autoreload 2\n",
    "\n",
    "# Imports\n",
    "# Utils\n",
    "import matplotlib as plt\n",
    "import numpy as np\n",
    "import wandb\n",
    "import sys\n",
    "import importlib\n",
    "from PIL import Image, ImageFile\n",
    "ImageFile.LOAD_TRUNCATED_IMAGES = True\n",
    "import datetime\n",
    "import json\n",
    "from sklearn.metrics import accuracy_score, confusion_matrix\n",
    "\n",
    "\n",
    "# DL libraries\n",
    "import torch\n",
    "import torch.optim as optim\n",
    "from torch import nn\n",
    "import torch.utils.data \n",
    "from torch.utils.data import DataLoader\n",
    "\n",
    "# User libraries\n",
    "from dataset.audio_sample_dataset import AudioSampleDataset\n",
    "from model.baseline_model import BaselineModel\n",
    "from trainer.trainer import train_classification_model\n",
    "from validator.validator import validate_classification_model\n",
    "from util import config, util_functions, model_management"
   ]
  },
  {
   "cell_type": "code",
   "execution_count": 4,
   "metadata": {},
   "outputs": [],
   "source": [
    "augmentations = {\n",
    "    'pitch_shift': {\n",
    "        'enabled': False,\n",
    "    },\n",
    "    'noise': {\n",
    "        'enabled': True,\n",
    "        'p': 0.25,\n",
    "        'min_amplitude': 0.001,\n",
    "        'max_amplitude': 0.015,\n",
    "    },\n",
    "    'mixup': {\n",
    "        'enabled': True,\n",
    "        'p': 0.25,\n",
    "        'alpha': 0.2,\n",
    "    },\n",
    "    'freq_mask': {\n",
    "        'enabled': True,\n",
    "        'p': 0.25,\n",
    "        'freq_mask_param': 5,\n",
    "    },\n",
    "    'time_mask': {\n",
    "        'enabled': True,\n",
    "        'p': 0.25,\n",
    "        'time_mask_param': 10,\n",
    "    }\n",
    "}\n",
    "\n",
    "test_augmentations = {\n",
    "    'pitch_shift': {\n",
    "        'enabled': False,\n",
    "    },\n",
    "    'noise': {\n",
    "        'enabled': False,\n",
    "    },\n",
    "    'mixup': {\n",
    "        'enabled': False,\n",
    "    },\n",
    "    'freq_mask': {\n",
    "        'enabled': False,\n",
    "    },\n",
    "    'time_mask': {\n",
    "        'enabled': False,\n",
    "    }\n",
    "}"
   ]
  },
  {
   "cell_type": "code",
   "execution_count": 5,
   "metadata": {},
   "outputs": [],
   "source": [
    "# Get the train and test data\n",
    "train_dataset = AudioSampleDataset(\n",
    "        join(BASE_PATH, config.TRAIN_DATA_PATH),\n",
    "        augmentations\n",
    "    )\n",
    "test_dataset = AudioSampleDataset(\n",
    "        join(BASE_PATH, config.TEST_DATA_PATH),\n",
    "        test_augmentations\n",
    "    )\n",
    "\n",
    "# Place in dataloaders\n",
    "train_dataloader = DataLoader(train_dataset, batch_size=config.BATCH_SIZE, shuffle=True)\n",
    "test_dataloader = DataLoader(test_dataset, batch_size=1)"
   ]
  },
  {
   "cell_type": "markdown",
   "metadata": {},
   "source": [
    "## Setup"
   ]
  },
  {
   "cell_type": "code",
   "execution_count": 6,
   "metadata": {},
   "outputs": [
    {
     "name": "stderr",
     "output_type": "stream",
     "text": [
      "Using cache found in /root/.cache/torch/hub/pytorch_vision_v0.10.0\n",
      "Failed to detect the name of this notebook, you can set it manually with the WANDB_NOTEBOOK_NAME environment variable to enable code saving.\n",
      "\u001b[34m\u001b[1mwandb\u001b[0m: Currently logged in as: \u001b[33mrobberdg\u001b[0m. Use \u001b[1m`wandb login --relogin`\u001b[0m to force relogin\n"
     ]
    },
    {
     "data": {
      "text/html": [
       "wandb version 0.13.7 is available!  To upgrade, please run:\n",
       " $ pip install wandb --upgrade"
      ],
      "text/plain": [
       "<IPython.core.display.HTML object>"
      ]
     },
     "metadata": {},
     "output_type": "display_data"
    },
    {
     "data": {
      "text/html": [
       "Tracking run with wandb version 0.13.6"
      ],
      "text/plain": [
       "<IPython.core.display.HTML object>"
      ]
     },
     "metadata": {},
     "output_type": "display_data"
    },
    {
     "data": {
      "text/html": [
       "Run data is saved locally in <code>/workspaces/project_automated_sound_recognition/src/wandb/run-20221215_111444-8rix2tfe</code>"
      ],
      "text/plain": [
       "<IPython.core.display.HTML object>"
      ]
     },
     "metadata": {},
     "output_type": "display_data"
    },
    {
     "data": {
      "text/html": [
       "Syncing run <strong><a href=\"https://wandb.ai/robberdg/project_asr/runs/8rix2tfe\" target=\"_blank\">128_1e-05_nmft_15_12_2022_11_14_44</a></strong> to <a href=\"https://wandb.ai/robberdg/project_asr\" target=\"_blank\">Weights & Biases</a> (<a href=\"https://wandb.me/run\" target=\"_blank\">docs</a>)<br/>"
      ],
      "text/plain": [
       "<IPython.core.display.HTML object>"
      ]
     },
     "metadata": {},
     "output_type": "display_data"
    },
    {
     "data": {
      "text/html": [
       "<button onClick=\"this.nextSibling.style.display='block';this.style.display='none';\">Display W&B run</button><iframe src=\"https://wandb.ai/robberdg/project_asr/runs/8rix2tfe?jupyter=true\" style=\"border:none;width:100%;height:420px;display:none;\"></iframe>"
      ],
      "text/plain": [
       "<wandb.sdk.wandb_run.Run at 0x14e4ec26f2b0>"
      ]
     },
     "execution_count": 6,
     "metadata": {},
     "output_type": "execute_result"
    }
   ],
   "source": [
    "# Clear gpu cache\n",
    "torch.cuda.empty_cache()\n",
    "\n",
    "# Get the model\n",
    "model = torch.hub.load('pytorch/vision:v0.10.0', 'resnet18', pretrained=True)\n",
    "model.fc = nn.Sequential(\n",
    "    nn.Linear(in_features=512, out_features= 256),\n",
    "    nn.ReLU(),\n",
    "    nn.Dropout(0.5),\n",
    "    nn.Linear(in_features=256, out_features=len(config.LABELS)),\n",
    "    nn.Softmax(dim= 1)\n",
    ")\n",
    "model.to(config.DEVICE)\n",
    "\n",
    "# Set the optimizer\n",
    "optimizer = optim.Adam(model.parameters(), lr=config.LR)\n",
    "\n",
    "# Set the loss fn\n",
    "criteria = nn.CrossEntropyLoss()\n",
    "\n",
    "# Set the gradient scaler\n",
    "grad_scaler = torch.cuda.amp.grad_scaler.GradScaler()\n",
    "\n",
    "# Setup weights and biasses\n",
    "wandb.login()\n",
    "\n",
    "# Get the current time for the checkpoint name\n",
    "now = datetime.datetime.now()\n",
    "\n",
    "# Set the wandb experiment name\n",
    "experiment_name = util_functions.generate_run_name_from_config(augmentations)\n",
    "\n",
    "# Start wandb\n",
    "wandb.init(\n",
    "    settings=wandb.Settings(start_method=\"fork\"),\n",
    "    project=\"project_asr\", \n",
    "    name=experiment_name, \n",
    "    config={\n",
    "        \"learning_rate\": config.LR,\n",
    "        \"batch_size\": config.BATCH_SIZE,\n",
    "        \"epochs\": config.EPOCHS,\n",
    "        \"augmentations\": json.dumps(augmentations),\n",
    "    }\n",
    ")\n"
   ]
  },
  {
   "cell_type": "markdown",
   "metadata": {},
   "source": [
    "## Training"
   ]
  },
  {
   "cell_type": "code",
   "execution_count": 7,
   "metadata": {},
   "outputs": [
    {
     "name": "stderr",
     "output_type": "stream",
     "text": [
      "100%|██████████| 79/79 [02:53<00:00,  2.20s/it]\n",
      "100%|██████████| 2000/2000 [00:27<00:00, 73.78it/s]\n"
     ]
    },
    {
     "name": "stdout",
     "output_type": "stream",
     "text": [
      "epoch: 0, train_loss: 0.018155316305160523, val_loss: 2.292484007358551, acc: 0.164\n"
     ]
    },
    {
     "name": "stderr",
     "output_type": "stream",
     "text": [
      "100%|██████████| 79/79 [02:33<00:00,  1.94s/it]\n",
      "100%|██████████| 2000/2000 [00:27<00:00, 73.99it/s]\n"
     ]
    },
    {
     "name": "stdout",
     "output_type": "stream",
     "text": [
      "epoch: 1, train_loss: 0.01798256778717041, val_loss: 2.2670140978693962, acc: 0.199\n"
     ]
    },
    {
     "name": "stderr",
     "output_type": "stream",
     "text": [
      "100%|██████████| 79/79 [02:13<00:00,  1.70s/it]\n",
      "100%|██████████| 2000/2000 [00:26<00:00, 74.40it/s]\n"
     ]
    },
    {
     "name": "stdout",
     "output_type": "stream",
     "text": [
      "epoch: 2, train_loss: 0.017682585239410402, val_loss: 2.2345531691312788, acc: 0.227\n"
     ]
    },
    {
     "name": "stderr",
     "output_type": "stream",
     "text": [
      "100%|██████████| 79/79 [02:11<00:00,  1.67s/it]\n",
      "100%|██████████| 2000/2000 [00:26<00:00, 74.10it/s]\n"
     ]
    },
    {
     "name": "stdout",
     "output_type": "stream",
     "text": [
      "epoch: 3, train_loss: 0.01736512367725372, val_loss: 2.2085016718506814, acc: 0.281\n"
     ]
    },
    {
     "name": "stderr",
     "output_type": "stream",
     "text": [
      "100%|██████████| 79/79 [02:11<00:00,  1.66s/it]\n",
      "100%|██████████| 2000/2000 [00:26<00:00, 74.14it/s]\n"
     ]
    },
    {
     "name": "stdout",
     "output_type": "stream",
     "text": [
      "epoch: 4, train_loss: 0.017091221761703492, val_loss: 2.1824832959771157, acc: 0.305\n"
     ]
    },
    {
     "name": "stderr",
     "output_type": "stream",
     "text": [
      "100%|██████████| 79/79 [02:14<00:00,  1.70s/it]\n",
      "100%|██████████| 2000/2000 [00:28<00:00, 71.03it/s]\n"
     ]
    },
    {
     "name": "stdout",
     "output_type": "stream",
     "text": [
      "epoch: 5, train_loss: 0.01688775269985199, val_loss: 2.1678123722076417, acc: 0.307\n"
     ]
    },
    {
     "name": "stderr",
     "output_type": "stream",
     "text": [
      "100%|██████████| 79/79 [02:14<00:00,  1.70s/it]\n",
      "100%|██████████| 2000/2000 [00:27<00:00, 73.88it/s]\n"
     ]
    },
    {
     "name": "stdout",
     "output_type": "stream",
     "text": [
      "epoch: 6, train_loss: 0.01665236759185791, val_loss: 2.1563625737428667, acc: 0.3065\n"
     ]
    },
    {
     "name": "stderr",
     "output_type": "stream",
     "text": [
      "100%|██████████| 79/79 [02:14<00:00,  1.70s/it]\n",
      "100%|██████████| 2000/2000 [00:26<00:00, 74.17it/s]\n"
     ]
    },
    {
     "name": "stdout",
     "output_type": "stream",
     "text": [
      "epoch: 7, train_loss: 0.016483910799026488, val_loss: 2.1423856572508813, acc: 0.3205\n"
     ]
    },
    {
     "name": "stderr",
     "output_type": "stream",
     "text": [
      "100%|██████████| 79/79 [02:13<00:00,  1.69s/it]\n",
      "100%|██████████| 2000/2000 [00:27<00:00, 73.62it/s]\n"
     ]
    },
    {
     "name": "stdout",
     "output_type": "stream",
     "text": [
      "epoch: 8, train_loss: 0.016330776154994963, val_loss: 2.1295120162963865, acc: 0.3285\n"
     ]
    },
    {
     "name": "stderr",
     "output_type": "stream",
     "text": [
      "100%|██████████| 79/79 [02:15<00:00,  1.72s/it]\n",
      "100%|██████████| 2000/2000 [00:26<00:00, 74.60it/s]\n"
     ]
    },
    {
     "name": "stdout",
     "output_type": "stream",
     "text": [
      "epoch: 9, train_loss: 0.016198806941509245, val_loss: 2.1184252191782, acc: 0.342\n"
     ]
    },
    {
     "name": "stderr",
     "output_type": "stream",
     "text": [
      "100%|██████████| 79/79 [02:12<00:00,  1.67s/it]\n",
      "100%|██████████| 2000/2000 [00:27<00:00, 73.03it/s]\n"
     ]
    },
    {
     "name": "stdout",
     "output_type": "stream",
     "text": [
      "epoch: 10, train_loss: 0.016064546251296996, val_loss: 2.115439921498299, acc: 0.341\n"
     ]
    },
    {
     "name": "stderr",
     "output_type": "stream",
     "text": [
      "100%|██████████| 79/79 [02:13<00:00,  1.70s/it]\n",
      "100%|██████████| 2000/2000 [00:26<00:00, 74.61it/s]\n"
     ]
    },
    {
     "name": "stdout",
     "output_type": "stream",
     "text": [
      "epoch: 11, train_loss: 0.015982945072650908, val_loss: 2.1109033881425856, acc: 0.3405\n"
     ]
    },
    {
     "name": "stderr",
     "output_type": "stream",
     "text": [
      "100%|██████████| 79/79 [02:14<00:00,  1.70s/it]\n",
      "100%|██████████| 2000/2000 [00:27<00:00, 73.97it/s]\n"
     ]
    },
    {
     "name": "stdout",
     "output_type": "stream",
     "text": [
      "epoch: 12, train_loss: 0.015891064858436586, val_loss: 2.103274468123913, acc: 0.3475\n"
     ]
    },
    {
     "name": "stderr",
     "output_type": "stream",
     "text": [
      "100%|██████████| 79/79 [02:14<00:00,  1.71s/it]\n",
      "100%|██████████| 2000/2000 [00:26<00:00, 74.10it/s]\n"
     ]
    },
    {
     "name": "stdout",
     "output_type": "stream",
     "text": [
      "epoch: 13, train_loss: 0.015761960029602052, val_loss: 2.104612149834633, acc: 0.3455\n"
     ]
    },
    {
     "name": "stderr",
     "output_type": "stream",
     "text": [
      "100%|██████████| 79/79 [02:11<00:00,  1.67s/it]\n",
      "100%|██████████| 2000/2000 [00:26<00:00, 74.42it/s]\n"
     ]
    },
    {
     "name": "stdout",
     "output_type": "stream",
     "text": [
      "epoch: 14, train_loss: 0.01570152521133423, val_loss: 2.1000625976920126, acc: 0.3515\n"
     ]
    },
    {
     "name": "stderr",
     "output_type": "stream",
     "text": [
      "100%|██████████| 79/79 [02:14<00:00,  1.70s/it]\n",
      "100%|██████████| 2000/2000 [00:26<00:00, 74.19it/s]\n"
     ]
    },
    {
     "name": "stdout",
     "output_type": "stream",
     "text": [
      "epoch: 15, train_loss: 0.015642944264411925, val_loss: 2.0940523594617844, acc: 0.36\n"
     ]
    },
    {
     "name": "stderr",
     "output_type": "stream",
     "text": [
      "100%|██████████| 79/79 [02:16<00:00,  1.73s/it]\n",
      "100%|██████████| 2000/2000 [00:26<00:00, 74.55it/s]\n"
     ]
    },
    {
     "name": "stdout",
     "output_type": "stream",
     "text": [
      "epoch: 16, train_loss: 0.015561930894851684, val_loss: 2.0925350080728533, acc: 0.361\n"
     ]
    },
    {
     "name": "stderr",
     "output_type": "stream",
     "text": [
      "100%|██████████| 79/79 [02:17<00:00,  1.74s/it]\n",
      "100%|██████████| 2000/2000 [00:27<00:00, 73.98it/s]\n"
     ]
    },
    {
     "name": "stdout",
     "output_type": "stream",
     "text": [
      "epoch: 17, train_loss: 0.015513268077373505, val_loss: 2.0908341484069823, acc: 0.364\n"
     ]
    },
    {
     "name": "stderr",
     "output_type": "stream",
     "text": [
      "100%|██████████| 79/79 [02:14<00:00,  1.70s/it]\n",
      "100%|██████████| 2000/2000 [00:26<00:00, 74.16it/s]\n"
     ]
    },
    {
     "name": "stdout",
     "output_type": "stream",
     "text": [
      "epoch: 18, train_loss: 0.015421316301822661, val_loss: 2.0870236140489578, acc: 0.365\n"
     ]
    },
    {
     "name": "stderr",
     "output_type": "stream",
     "text": [
      "100%|██████████| 79/79 [02:11<00:00,  1.67s/it]\n",
      "100%|██████████| 2000/2000 [00:26<00:00, 74.55it/s]\n"
     ]
    },
    {
     "name": "stdout",
     "output_type": "stream",
     "text": [
      "epoch: 19, train_loss: 0.015370866346359252, val_loss: 2.086170552551746, acc: 0.368\n"
     ]
    },
    {
     "name": "stderr",
     "output_type": "stream",
     "text": [
      "100%|██████████| 79/79 [02:12<00:00,  1.68s/it]\n",
      "100%|██████████| 2000/2000 [00:27<00:00, 71.75it/s]\n"
     ]
    },
    {
     "name": "stdout",
     "output_type": "stream",
     "text": [
      "epoch: 20, train_loss: 0.015313419604301453, val_loss: 2.081849751472473, acc: 0.3695\n"
     ]
    },
    {
     "name": "stderr",
     "output_type": "stream",
     "text": [
      "100%|██████████| 79/79 [02:12<00:00,  1.68s/it]\n",
      "100%|██████████| 2000/2000 [00:27<00:00, 74.07it/s]\n"
     ]
    },
    {
     "name": "stdout",
     "output_type": "stream",
     "text": [
      "epoch: 21, train_loss: 0.015279885601997376, val_loss: 2.0799266087412835, acc: 0.3765\n"
     ]
    },
    {
     "name": "stderr",
     "output_type": "stream",
     "text": [
      "100%|██████████| 79/79 [02:14<00:00,  1.70s/it]\n",
      "100%|██████████| 2000/2000 [00:26<00:00, 74.31it/s]\n"
     ]
    },
    {
     "name": "stdout",
     "output_type": "stream",
     "text": [
      "epoch: 22, train_loss: 0.015215869700908661, val_loss: 2.0784304540753364, acc: 0.371\n"
     ]
    },
    {
     "name": "stderr",
     "output_type": "stream",
     "text": [
      "100%|██████████| 79/79 [02:12<00:00,  1.68s/it]\n",
      "100%|██████████| 2000/2000 [00:27<00:00, 73.47it/s]\n"
     ]
    },
    {
     "name": "stdout",
     "output_type": "stream",
     "text": [
      "epoch: 23, train_loss: 0.015147317230701446, val_loss: 2.073857323408127, acc: 0.379\n"
     ]
    },
    {
     "name": "stderr",
     "output_type": "stream",
     "text": [
      "100%|██████████| 79/79 [02:14<00:00,  1.70s/it]\n",
      "100%|██████████| 2000/2000 [00:27<00:00, 73.71it/s]\n"
     ]
    },
    {
     "name": "stdout",
     "output_type": "stream",
     "text": [
      "epoch: 24, train_loss: 0.01504314056634903, val_loss: 2.0750020802617075, acc: 0.379\n"
     ]
    },
    {
     "name": "stderr",
     "output_type": "stream",
     "text": [
      "100%|██████████| 79/79 [02:12<00:00,  1.68s/it]\n",
      "100%|██████████| 2000/2000 [00:26<00:00, 74.12it/s]\n"
     ]
    },
    {
     "name": "stdout",
     "output_type": "stream",
     "text": [
      "epoch: 25, train_loss: 0.01496931174993515, val_loss: 2.0713273344635965, acc: 0.3795\n"
     ]
    },
    {
     "name": "stderr",
     "output_type": "stream",
     "text": [
      "100%|██████████| 79/79 [02:12<00:00,  1.68s/it]\n",
      "100%|██████████| 2000/2000 [00:26<00:00, 74.20it/s]\n"
     ]
    },
    {
     "name": "stdout",
     "output_type": "stream",
     "text": [
      "epoch: 26, train_loss: 0.014999572956562042, val_loss: 2.074025146007538, acc: 0.375\n"
     ]
    },
    {
     "name": "stderr",
     "output_type": "stream",
     "text": [
      "100%|██████████| 79/79 [02:11<00:00,  1.66s/it]\n",
      "100%|██████████| 2000/2000 [00:26<00:00, 74.42it/s]\n"
     ]
    },
    {
     "name": "stdout",
     "output_type": "stream",
     "text": [
      "epoch: 27, train_loss: 0.01489180783033371, val_loss: 2.07477451056242, acc: 0.381\n"
     ]
    },
    {
     "name": "stderr",
     "output_type": "stream",
     "text": [
      "100%|██████████| 79/79 [02:12<00:00,  1.68s/it]\n",
      "100%|██████████| 2000/2000 [00:26<00:00, 74.22it/s]\n"
     ]
    },
    {
     "name": "stdout",
     "output_type": "stream",
     "text": [
      "epoch: 28, train_loss: 0.014838017821311951, val_loss: 2.0740725243687628, acc: 0.3825\n"
     ]
    },
    {
     "name": "stderr",
     "output_type": "stream",
     "text": [
      "100%|██████████| 79/79 [02:12<00:00,  1.67s/it]\n",
      "100%|██████████| 2000/2000 [00:27<00:00, 73.70it/s]\n"
     ]
    },
    {
     "name": "stdout",
     "output_type": "stream",
     "text": [
      "epoch: 29, train_loss: 0.014762418854236603, val_loss: 2.0759464539289474, acc: 0.3745\n"
     ]
    },
    {
     "name": "stderr",
     "output_type": "stream",
     "text": [
      "100%|██████████| 79/79 [02:10<00:00,  1.66s/it]\n",
      "100%|██████████| 2000/2000 [00:26<00:00, 74.26it/s]\n"
     ]
    },
    {
     "name": "stdout",
     "output_type": "stream",
     "text": [
      "epoch: 30, train_loss: 0.01472879090309143, val_loss: 2.073307465434074, acc: 0.3815\n"
     ]
    },
    {
     "name": "stderr",
     "output_type": "stream",
     "text": [
      "100%|██████████| 79/79 [02:11<00:00,  1.67s/it]\n",
      "100%|██████████| 2000/2000 [00:26<00:00, 74.34it/s]\n"
     ]
    },
    {
     "name": "stdout",
     "output_type": "stream",
     "text": [
      "epoch: 31, train_loss: 0.01469206292629242, val_loss: 2.077247202217579, acc: 0.3715\n"
     ]
    },
    {
     "name": "stderr",
     "output_type": "stream",
     "text": [
      "100%|██████████| 79/79 [02:11<00:00,  1.67s/it]\n",
      "100%|██████████| 2000/2000 [00:27<00:00, 73.96it/s]\n"
     ]
    },
    {
     "name": "stdout",
     "output_type": "stream",
     "text": [
      "epoch: 32, train_loss: 0.014716549909114838, val_loss: 2.071376914560795, acc: 0.3875\n"
     ]
    },
    {
     "name": "stderr",
     "output_type": "stream",
     "text": [
      "100%|██████████| 79/79 [02:12<00:00,  1.68s/it]\n",
      "100%|██████████| 2000/2000 [00:26<00:00, 74.18it/s]\n"
     ]
    },
    {
     "name": "stdout",
     "output_type": "stream",
     "text": [
      "epoch: 33, train_loss: 0.014650077784061431, val_loss: 2.0700378680825233, acc: 0.3815\n"
     ]
    },
    {
     "name": "stderr",
     "output_type": "stream",
     "text": [
      "100%|██████████| 79/79 [02:11<00:00,  1.67s/it]\n",
      "100%|██████████| 2000/2000 [00:26<00:00, 74.11it/s]\n"
     ]
    },
    {
     "name": "stdout",
     "output_type": "stream",
     "text": [
      "epoch: 34, train_loss: 0.01461037802696228, val_loss: 2.0665433453917506, acc: 0.388\n"
     ]
    },
    {
     "name": "stderr",
     "output_type": "stream",
     "text": [
      "100%|██████████| 79/79 [02:14<00:00,  1.71s/it]\n",
      "100%|██████████| 2000/2000 [00:27<00:00, 73.88it/s]\n"
     ]
    },
    {
     "name": "stdout",
     "output_type": "stream",
     "text": [
      "epoch: 35, train_loss: 0.014541225516796112, val_loss: 2.064856257021427, acc: 0.3865\n"
     ]
    },
    {
     "name": "stderr",
     "output_type": "stream",
     "text": [
      "100%|██████████| 79/79 [02:13<00:00,  1.68s/it]\n",
      "100%|██████████| 2000/2000 [00:26<00:00, 74.54it/s]\n"
     ]
    },
    {
     "name": "stdout",
     "output_type": "stream",
     "text": [
      "epoch: 36, train_loss: 0.014484809827804566, val_loss: 2.0673522891402243, acc: 0.387\n"
     ]
    },
    {
     "name": "stderr",
     "output_type": "stream",
     "text": [
      "100%|██████████| 79/79 [02:12<00:00,  1.67s/it]\n",
      "100%|██████████| 2000/2000 [00:27<00:00, 73.91it/s]\n"
     ]
    },
    {
     "name": "stdout",
     "output_type": "stream",
     "text": [
      "epoch: 37, train_loss: 0.014475904870033264, val_loss: 2.0676102433204653, acc: 0.391\n"
     ]
    },
    {
     "name": "stderr",
     "output_type": "stream",
     "text": [
      "100%|██████████| 79/79 [02:10<00:00,  1.66s/it]\n",
      "100%|██████████| 2000/2000 [00:26<00:00, 74.56it/s]\n"
     ]
    },
    {
     "name": "stdout",
     "output_type": "stream",
     "text": [
      "epoch: 38, train_loss: 0.014465565633773804, val_loss: 2.0661358842849733, acc: 0.39\n"
     ]
    },
    {
     "name": "stderr",
     "output_type": "stream",
     "text": [
      "100%|██████████| 79/79 [02:11<00:00,  1.67s/it]\n",
      "100%|██████████| 2000/2000 [00:27<00:00, 71.48it/s]\n"
     ]
    },
    {
     "name": "stdout",
     "output_type": "stream",
     "text": [
      "epoch: 39, train_loss: 0.014431856679916382, val_loss: 2.0695834946632385, acc: 0.3825\n"
     ]
    },
    {
     "name": "stderr",
     "output_type": "stream",
     "text": [
      "100%|██████████| 79/79 [02:10<00:00,  1.65s/it]\n",
      "100%|██████████| 2000/2000 [00:27<00:00, 72.80it/s]\n"
     ]
    },
    {
     "name": "stdout",
     "output_type": "stream",
     "text": [
      "epoch: 40, train_loss: 0.014378969359397888, val_loss: 2.068142130851746, acc: 0.388\n"
     ]
    },
    {
     "name": "stderr",
     "output_type": "stream",
     "text": [
      "100%|██████████| 79/79 [02:10<00:00,  1.65s/it]\n",
      "100%|██████████| 2000/2000 [00:26<00:00, 74.30it/s]\n"
     ]
    },
    {
     "name": "stdout",
     "output_type": "stream",
     "text": [
      "epoch: 41, train_loss: 0.01435872061252594, val_loss: 2.0682525297403336, acc: 0.386\n"
     ]
    },
    {
     "name": "stderr",
     "output_type": "stream",
     "text": [
      "100%|██████████| 79/79 [02:13<00:00,  1.69s/it]\n",
      "100%|██████████| 2000/2000 [00:26<00:00, 74.11it/s]\n"
     ]
    },
    {
     "name": "stdout",
     "output_type": "stream",
     "text": [
      "epoch: 42, train_loss: 0.014345350635051728, val_loss: 2.0649502193331717, acc: 0.3875\n"
     ]
    },
    {
     "name": "stderr",
     "output_type": "stream",
     "text": [
      "100%|██████████| 79/79 [02:12<00:00,  1.68s/it]\n",
      "100%|██████████| 2000/2000 [00:26<00:00, 74.42it/s]\n"
     ]
    },
    {
     "name": "stdout",
     "output_type": "stream",
     "text": [
      "epoch: 43, train_loss: 0.014312987625598907, val_loss: 2.0640909324884413, acc: 0.385\n"
     ]
    },
    {
     "name": "stderr",
     "output_type": "stream",
     "text": [
      "100%|██████████| 79/79 [02:13<00:00,  1.69s/it]\n",
      "100%|██████████| 2000/2000 [00:26<00:00, 74.16it/s]\n"
     ]
    },
    {
     "name": "stdout",
     "output_type": "stream",
     "text": [
      "epoch: 44, train_loss: 0.014250141632556916, val_loss: 2.064260559260845, acc: 0.3915\n"
     ]
    },
    {
     "name": "stderr",
     "output_type": "stream",
     "text": [
      "100%|██████████| 79/79 [02:11<00:00,  1.66s/it]\n",
      "100%|██████████| 2000/2000 [00:27<00:00, 74.00it/s]\n"
     ]
    },
    {
     "name": "stdout",
     "output_type": "stream",
     "text": [
      "epoch: 45, train_loss: 0.014261416387557983, val_loss: 2.05777489477396, acc: 0.397\n"
     ]
    },
    {
     "name": "stderr",
     "output_type": "stream",
     "text": [
      "100%|██████████| 79/79 [02:13<00:00,  1.69s/it]\n",
      "100%|██████████| 2000/2000 [00:26<00:00, 74.31it/s]\n"
     ]
    },
    {
     "name": "stdout",
     "output_type": "stream",
     "text": [
      "epoch: 46, train_loss: 0.014255046546459198, val_loss: 2.0580518522262574, acc: 0.3965\n"
     ]
    },
    {
     "name": "stderr",
     "output_type": "stream",
     "text": [
      "100%|██████████| 79/79 [02:11<00:00,  1.67s/it]\n",
      "100%|██████████| 2000/2000 [00:26<00:00, 74.39it/s]\n"
     ]
    },
    {
     "name": "stdout",
     "output_type": "stream",
     "text": [
      "epoch: 47, train_loss: 0.014194830524921417, val_loss: 2.069194474697113, acc: 0.3905\n"
     ]
    },
    {
     "name": "stderr",
     "output_type": "stream",
     "text": [
      "100%|██████████| 79/79 [02:11<00:00,  1.67s/it]\n",
      "100%|██████████| 2000/2000 [00:26<00:00, 74.60it/s]\n"
     ]
    },
    {
     "name": "stdout",
     "output_type": "stream",
     "text": [
      "epoch: 48, train_loss: 0.014163315749168397, val_loss: 2.065612910568714, acc: 0.392\n"
     ]
    },
    {
     "name": "stderr",
     "output_type": "stream",
     "text": [
      "100%|██████████| 79/79 [02:11<00:00,  1.66s/it]\n",
      "100%|██████████| 2000/2000 [00:26<00:00, 74.21it/s]"
     ]
    },
    {
     "name": "stdout",
     "output_type": "stream",
     "text": [
      "epoch: 49, train_loss: 0.014133450412750244, val_loss: 2.0686042371988296, acc: 0.3855\n"
     ]
    },
    {
     "name": "stderr",
     "output_type": "stream",
     "text": [
      "\n"
     ]
    }
   ],
   "source": [
    "# Set the variables to keep track of the best model\n",
    "best_validation_loss = 10000\n",
    "best_model_state = model.state_dict()\n",
    "\n",
    "for epoch in range(0,50):\n",
    "  # Set the model in training mode\n",
    "  model.train()\n",
    "  \n",
    "  # Train the model\n",
    "  total_train_loss_this_epoch = train_classification_model(\n",
    "      model,\n",
    "      optimizer,\n",
    "      criteria,\n",
    "      grad_scaler,\n",
    "      train_dataloader\n",
    "  )\n",
    "  \n",
    "  # Set the model in evaluation mode\n",
    "  model.eval()\n",
    "\n",
    "  # Validate the model\n",
    "  total_val_loss_this_epoch, pred_classes, true_classes = validate_classification_model(\n",
    "      model,\n",
    "      criteria,\n",
    "      test_dataloader,\n",
    "  )\n",
    "\n",
    "  # Calculate the loss values\n",
    "  train_loss_this_epoch = total_train_loss_this_epoch/len(train_dataloader.dataset)\n",
    "  val_loss_this_epoch = total_val_loss_this_epoch/len(test_dataloader.dataset)\n",
    "\n",
    "  # Calculate the accuracy\n",
    "  acc_avg = accuracy_score(true_classes, pred_classes)\n",
    "\n",
    "  # Calculate acc per class\n",
    "  matrix = confusion_matrix(true_classes, pred_classes)\n",
    "  acc_per_class = matrix.diagonal()/matrix.sum(axis=1)\n",
    "\n",
    "\n",
    "  # Log the train loss this epoch\n",
    "  wandb.log({\n",
    "      'train_loss': train_loss_this_epoch,\n",
    "      'val_loss': val_loss_this_epoch,\n",
    "      'acc': acc_avg,\n",
    "      'acc_airport': acc_per_class[0],\n",
    "      'acc_shopping_mall': acc_per_class[1],\n",
    "      'acc_metro_station': acc_per_class[3],\n",
    "      'acc_street_pedestrian': acc_per_class[3],\n",
    "      'acc_public_square': acc_per_class[4],\n",
    "      'acc_street_traffic': acc_per_class[5],\n",
    "      'acc_tram': acc_per_class[6],\n",
    "      'acc_bus': acc_per_class[7],\n",
    "      'acc_metro': acc_per_class[8],\n",
    "      'acc_park': acc_per_class[9],\n",
    "  })\n",
    "\n",
    "  print(f'epoch: {epoch}, train_loss: {train_loss_this_epoch}, val_loss: {val_loss_this_epoch}, acc: {acc_avg}')\n",
    "\n",
    "  # If this is the best performing model yet, save it\n",
    "  if val_loss_this_epoch < best_validation_loss:\n",
    "    # Update the score\n",
    "    best_validation_loss = val_loss_this_epoch\n",
    "\n",
    "    now = datetime.datetime.now()\n",
    "\n",
    "    # Save the model\n",
    "    checkpoint_path = join(\n",
    "      BASE_PATH, \n",
    "      config.MODEL_CHECKPOINT_PATH, \n",
    "      f'{experiment_name}.pth'\n",
    "    )\n",
    "    best_model_state = model_management.save_model(model, checkpoint_path, False, '')"
   ]
  },
  {
   "cell_type": "code",
   "execution_count": 8,
   "metadata": {},
   "outputs": [],
   "source": [
    "now = datetime.datetime.now()\n",
    "\n",
    "# Save the final model\n",
    "checkpoint_path = join(\n",
    "    BASE_PATH, \n",
    "    config.MODEL_CHECKPOINT_PATH, \n",
    "    f'{experiment_name}.pth'\n",
    ")\n",
    "best_model_state = model_management.save_model(model, checkpoint_path, True, f'model_{experiment_name}')"
   ]
  },
  {
   "cell_type": "code",
   "execution_count": 9,
   "metadata": {},
   "outputs": [
    {
     "data": {
      "text/html": [
       "Waiting for W&B process to finish... <strong style=\"color:green\">(success).</strong>"
      ],
      "text/plain": [
       "<IPython.core.display.HTML object>"
      ]
     },
     "metadata": {},
     "output_type": "display_data"
    },
    {
     "data": {
      "text/html": [
       "<style>\n",
       "    table.wandb td:nth-child(1) { padding: 0 10px; text-align: left ; width: auto;} td:nth-child(2) {text-align: left ; width: 100%}\n",
       "    .wandb-row { display: flex; flex-direction: row; flex-wrap: wrap; justify-content: flex-start; width: 100% }\n",
       "    .wandb-col { display: flex; flex-direction: column; flex-basis: 100%; flex: 1; padding: 10px; }\n",
       "    </style>\n",
       "<div class=\"wandb-row\"><div class=\"wandb-col\"><h3>Run history:</h3><br/><table class=\"wandb\"><tr><td>acc</td><td>▁▂▃▅▅▅▆▆▆▆▇▆▇▇▇▇▇▇▇▇▇▇███▇██████████████</td></tr><tr><td>acc_airport</td><td>▁▁▃▄▅▆▇▆▆▅▅▅▅▅▅▆▆▅▅▆▅▆▆▇▆▅▆▅▇▆█▆▅▆▆▇█▆▆▇</td></tr><tr><td>acc_bus</td><td>▁▁▄▇▅▅▄▃▃▂▃▃▃▃▃▄▄▅▄▅▆▆▆▄▅▆▆▆▇▆▇▆█▇▇▇█▇▇▆</td></tr><tr><td>acc_metro</td><td>▂▂▁▁▁▂▄▅████▇▇▇▇▇▇▇▇▆▇▆▇▆▆▇▆▆▆▇▇▆▇▇▇▆▆▇▇</td></tr><tr><td>acc_metro_station</td><td>▁▁▁▂▁▁▁▂▃▅▅▆▇▇▆▅▆▇▆▅▆█▇▇██▆▇▆█▇▇▇▇▆▆▅▇▇▇</td></tr><tr><td>acc_park</td><td>▄▇▆▆▄▁▃▄▃▄▅▃▅▄▆▅▅▆▅▇▇▅▆▅▄▅█▇█▇▆█▇▆█▇██▆▅</td></tr><tr><td>acc_public_square</td><td>▄▂▁▁▁▁▁▁▁▁▁▁▁▂▂▃▄▄▄▅▄▄▅▅▅▅▅▆▅▆▆▆▆▇▇▆▇▇██</td></tr><tr><td>acc_shopping_mall</td><td>▁▁▁▄██▇▇▇▇▇▇▇▇▆▆▆▆▆▆▆▅▅▆▆▆▆▆▅▅▅▆▆▆▆▆▅▆▅▅</td></tr><tr><td>acc_street_pedestrian</td><td>▁▁▁▂▁▁▁▂▃▅▅▆▇▇▆▅▆▇▆▅▆█▇▇██▆▇▆█▇▇▇▇▆▆▅▇▇▇</td></tr><tr><td>acc_street_traffic</td><td>▁▅██▇▆▆▆▇▇▇▆▇▆▇▇▆▆▆▆▇▆▆▆▆▆▆▆▆▆▆▆▆▆▅▆▆▆▆▆</td></tr><tr><td>acc_tram</td><td>▁▃▃▄▆▇██▆▆▆▆▆▇▆▆▆▅▅▅▅▄▅▅▅▄▄▅▄▄▄▄▄▄▄▃▄▄▄▄</td></tr><tr><td>train_loss</td><td>██▇▇▆▅▅▅▄▄▄▄▄▃▃▃▃▃▃▃▂▃▂▂▂▂▂▂▂▂▂▂▁▁▁▁▁▁▁▁</td></tr><tr><td>val_loss</td><td>█▇▆▅▄▄▄▃▃▃▂▂▂▂▂▂▂▂▂▁▁▁▂▁▁▂▁▁▁▁▁▁▁▁▁▁▁▁▁▁</td></tr></table><br/></div><div class=\"wandb-col\"><h3>Run summary:</h3><br/><table class=\"wandb\"><tr><td>acc</td><td>0.3855</td></tr><tr><td>acc_airport</td><td>0.3578</td></tr><tr><td>acc_bus</td><td>0.26699</td></tr><tr><td>acc_metro</td><td>0.40678</td></tr><tr><td>acc_metro_station</td><td>0.27111</td></tr><tr><td>acc_park</td><td>0.65385</td></tr><tr><td>acc_public_square</td><td>0.29319</td></tr><tr><td>acc_shopping_mall</td><td>0.41089</td></tr><tr><td>acc_street_pedestrian</td><td>0.27111</td></tr><tr><td>acc_street_traffic</td><td>0.56311</td></tr><tr><td>acc_tram</td><td>0.36723</td></tr><tr><td>train_loss</td><td>0.01413</td></tr><tr><td>val_loss</td><td>2.0686</td></tr></table><br/></div></div>"
      ],
      "text/plain": [
       "<IPython.core.display.HTML object>"
      ]
     },
     "metadata": {},
     "output_type": "display_data"
    },
    {
     "data": {
      "text/html": [
       "Synced <strong style=\"color:#cdcd00\">128_1e-05_nmft_15_12_2022_11_14_44</strong>: <a href=\"https://wandb.ai/robberdg/project_asr/runs/8rix2tfe\" target=\"_blank\">https://wandb.ai/robberdg/project_asr/runs/8rix2tfe</a><br/>Synced 5 W&B file(s), 0 media file(s), 1 artifact file(s) and 0 other file(s)"
      ],
      "text/plain": [
       "<IPython.core.display.HTML object>"
      ]
     },
     "metadata": {},
     "output_type": "display_data"
    },
    {
     "data": {
      "text/html": [
       "Find logs at: <code>./wandb/run-20221215_111444-8rix2tfe/logs</code>"
      ],
      "text/plain": [
       "<IPython.core.display.HTML object>"
      ]
     },
     "metadata": {},
     "output_type": "display_data"
    }
   ],
   "source": [
    "# Mark the run as finished\n",
    "wandb.finish()"
   ]
  }
 ],
 "metadata": {
  "kernelspec": {
   "display_name": "Python 3.10.6 64-bit",
   "language": "python",
   "name": "python3"
  },
  "language_info": {
   "codemirror_mode": {
    "name": "ipython",
    "version": 3
   },
   "file_extension": ".py",
   "mimetype": "text/x-python",
   "name": "python",
   "nbconvert_exporter": "python",
   "pygments_lexer": "ipython3",
   "version": "3.10.6"
  },
  "orig_nbformat": 4,
  "vscode": {
   "interpreter": {
    "hash": "916dbcbb3f70747c44a77c7bcd40155683ae19c65e1c03b4aa3499c5328201f1"
   }
  }
 },
 "nbformat": 4,
 "nbformat_minor": 2
}
