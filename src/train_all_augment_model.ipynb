{
 "cells": [
  {
   "cell_type": "code",
   "execution_count": 1,
   "metadata": {},
   "outputs": [],
   "source": [
    "from os.path import join\n",
    "\n",
    "def setup_file_system(in_colab):\n",
    "    if in_colab:\n",
    "        from google.colab import drive\n",
    "\n",
    "        # Set the base and mount path\n",
    "        MOUNT_PATH_DRIVE = '/content/drive'\n",
    "        BASE_PATH = join(\n",
    "            MOUNT_PATH_DRIVE, \n",
    "            \"MyDrive/project_asr\"\n",
    "        )\n",
    "\n",
    "        # Mount the google drive\n",
    "        drive.mount(MOUNT_PATH_DRIVE)\n",
    "\n",
    "        return BASE_PATH\n",
    "\n",
    "    else:\n",
    "        return \"/workspaces/project_automated_sound_recognition\""
   ]
  },
  {
   "cell_type": "code",
   "execution_count": 2,
   "metadata": {},
   "outputs": [],
   "source": [
    "import sys\n",
    "from os import chdir\n",
    "from os.path import join\n",
    "\n",
    "# Method to check if the notebook is running in colab or local\n",
    "IN_COLAB = 'google.colab' in sys.modules\n",
    "\n",
    "# Set the base path of the project\n",
    "BASE_PATH = setup_file_system(IN_COLAB)\n",
    "\n",
    "# Set the base path of the project\n",
    "chdir(join(BASE_PATH, \"src/\"))"
   ]
  },
  {
   "cell_type": "code",
   "execution_count": 3,
   "metadata": {},
   "outputs": [
    {
     "name": "stderr",
     "output_type": "stream",
     "text": [
      "/usr/local/lib/python3.10/dist-packages/tqdm/auto.py:22: TqdmWarning: IProgress not found. Please update jupyter and ipywidgets. See https://ipywidgets.readthedocs.io/en/stable/user_install.html\n",
      "  from .autonotebook import tqdm as notebook_tqdm\n"
     ]
    }
   ],
   "source": [
    "%load_ext autoreload\n",
    "%autoreload 2\n",
    "\n",
    "# Imports\n",
    "# Utils\n",
    "import matplotlib as plt\n",
    "import numpy as np\n",
    "import wandb\n",
    "import sys\n",
    "import importlib\n",
    "from PIL import Image, ImageFile\n",
    "ImageFile.LOAD_TRUNCATED_IMAGES = True\n",
    "import datetime\n",
    "import json\n",
    "from sklearn.metrics import accuracy_score, confusion_matrix\n",
    "\n",
    "\n",
    "# DL libraries\n",
    "import torch\n",
    "import torch.optim as optim\n",
    "from torch import nn\n",
    "import torch.utils.data \n",
    "from torch.utils.data import DataLoader\n",
    "\n",
    "# User libraries\n",
    "from dataset.audio_sample_dataset import AudioSampleDataset\n",
    "from model.baseline_model import BaselineModel\n",
    "from trainer.trainer import train_classification_model\n",
    "from validator.validator import validate_classification_model\n",
    "from util import config, util_functions, model_management"
   ]
  },
  {
   "cell_type": "code",
   "execution_count": 4,
   "metadata": {},
   "outputs": [],
   "source": [
    "augmentations = {\n",
    "    'pitch_shift': {\n",
    "        'enabled': True,\n",
    "        'p': 0.25,\n",
    "        'min_semitones': -4, \n",
    "        \"max_semitones\": 4,\n",
    "    },\n",
    "    'noise': {\n",
    "        'enabled': True,\n",
    "        'p': 0.25,\n",
    "        'min_amplitude': 0.001,\n",
    "        'max_amplitude': 0.015,\n",
    "    },\n",
    "    'mixup': {\n",
    "        'enabled': True,\n",
    "        'p': 0.25,\n",
    "        'alpha': 0.2,\n",
    "    },\n",
    "    'freq_mask': {\n",
    "        'enabled': True,\n",
    "        'p': 0.25,\n",
    "        'freq_mask_param': 5,\n",
    "    },\n",
    "    'time_mask': {\n",
    "        'enabled': True,\n",
    "        'p': 0.25,\n",
    "        'time_mask_param': 10,\n",
    "    }\n",
    "}\n",
    "\n",
    "test_augmentations = {\n",
    "    'pitch_shift': {\n",
    "        'enabled': False,\n",
    "    },\n",
    "    'noise': {\n",
    "        'enabled': False,\n",
    "    },\n",
    "    'mixup': {\n",
    "        'enabled': False,\n",
    "    },\n",
    "    'freq_mask': {\n",
    "        'enabled': False,\n",
    "    },\n",
    "    'time_mask': {\n",
    "        'enabled': False,\n",
    "    }\n",
    "}"
   ]
  },
  {
   "cell_type": "code",
   "execution_count": 5,
   "metadata": {},
   "outputs": [],
   "source": [
    "# Get the train and test data\n",
    "train_dataset = AudioSampleDataset(\n",
    "        join(BASE_PATH, config.TRAIN_DATA_PATH),\n",
    "        augmentations\n",
    "    )\n",
    "test_dataset = AudioSampleDataset(\n",
    "        join(BASE_PATH, config.TEST_DATA_PATH),\n",
    "        test_augmentations\n",
    "    )\n",
    "\n",
    "# Place in dataloaders\n",
    "train_dataloader = DataLoader(train_dataset, batch_size=config.BATCH_SIZE)\n",
    "test_dataloader = DataLoader(test_dataset, batch_size=1)"
   ]
  },
  {
   "cell_type": "markdown",
   "metadata": {},
   "source": [
    "## Setup"
   ]
  },
  {
   "cell_type": "code",
   "execution_count": 6,
   "metadata": {},
   "outputs": [
    {
     "name": "stderr",
     "output_type": "stream",
     "text": [
      "Using cache found in /root/.cache/torch/hub/pytorch_vision_v0.10.0\n",
      "Failed to detect the name of this notebook, you can set it manually with the WANDB_NOTEBOOK_NAME environment variable to enable code saving.\n",
      "\u001b[34m\u001b[1mwandb\u001b[0m: Currently logged in as: \u001b[33mrobberdg\u001b[0m. Use \u001b[1m`wandb login --relogin`\u001b[0m to force relogin\n"
     ]
    },
    {
     "data": {
      "text/html": [
       "Tracking run with wandb version 0.13.6"
      ],
      "text/plain": [
       "<IPython.core.display.HTML object>"
      ]
     },
     "metadata": {},
     "output_type": "display_data"
    },
    {
     "data": {
      "text/html": [
       "Run data is saved locally in <code>/workspaces/project_automated_sound_recognition/src/wandb/run-20221213_235928-xw5qdprb</code>"
      ],
      "text/plain": [
       "<IPython.core.display.HTML object>"
      ]
     },
     "metadata": {},
     "output_type": "display_data"
    },
    {
     "data": {
      "text/html": [
       "Syncing run <strong><a href=\"https://wandb.ai/robberdg/project_asr/runs/xw5qdprb\" target=\"_blank\">128_1e-05_npmft_13_12_2022_23_59_28</a></strong> to <a href=\"https://wandb.ai/robberdg/project_asr\" target=\"_blank\">Weights & Biases</a> (<a href=\"https://wandb.me/run\" target=\"_blank\">docs</a>)<br/>"
      ],
      "text/plain": [
       "<IPython.core.display.HTML object>"
      ]
     },
     "metadata": {},
     "output_type": "display_data"
    },
    {
     "data": {
      "text/html": [
       "<button onClick=\"this.nextSibling.style.display='block';this.style.display='none';\">Display W&B run</button><iframe src=\"https://wandb.ai/robberdg/project_asr/runs/xw5qdprb?jupyter=true\" style=\"border:none;width:100%;height:420px;display:none;\"></iframe>"
      ],
      "text/plain": [
       "<wandb.sdk.wandb_run.Run at 0x14758e477340>"
      ]
     },
     "execution_count": 6,
     "metadata": {},
     "output_type": "execute_result"
    }
   ],
   "source": [
    "# Clear gpu cache\n",
    "torch.cuda.empty_cache()\n",
    "\n",
    "# Get the model\n",
    "model = torch.hub.load('pytorch/vision:v0.10.0', 'resnet18', pretrained=True)\n",
    "model.fc = nn.Sequential(\n",
    "    nn.Linear(in_features=512, out_features= 256),\n",
    "    nn.ReLU(),\n",
    "    nn.Dropout(0.5),\n",
    "    nn.Linear(in_features=256, out_features=len(config.LABELS)),\n",
    "    nn.Softmax(dim= 1)\n",
    ")\n",
    "model.to(config.DEVICE)\n",
    "\n",
    "# Set the optimizer\n",
    "optimizer = optim.Adam(model.parameters(), lr=config.LR)\n",
    "\n",
    "# Set the loss fn\n",
    "criteria = nn.CrossEntropyLoss()\n",
    "\n",
    "# Set the gradient scaler\n",
    "grad_scaler = torch.cuda.amp.grad_scaler.GradScaler()\n",
    "\n",
    "# Setup weights and biasses\n",
    "wandb.login()\n",
    "\n",
    "# Get the current time for the checkpoint name\n",
    "now = datetime.datetime.now()\n",
    "\n",
    "# Set the wandb experiment name\n",
    "experiment_name = util_functions.generate_run_name_from_config(augmentations)\n",
    "\n",
    "# Start wandb\n",
    "wandb.init(\n",
    "    settings=wandb.Settings(start_method=\"fork\"),\n",
    "    project=\"project_asr\", \n",
    "    name=experiment_name, \n",
    "    config={\n",
    "        \"learning_rate\": config.LR,\n",
    "        \"batch_size\": config.BATCH_SIZE,\n",
    "        \"epochs\": config.EPOCHS,\n",
    "        \"augmentations\": json.dumps(augmentations),\n",
    "    }\n",
    ")\n"
   ]
  },
  {
   "cell_type": "markdown",
   "metadata": {},
   "source": [
    "## Training"
   ]
  },
  {
   "cell_type": "code",
   "execution_count": 7,
   "metadata": {},
   "outputs": [
    {
     "name": "stderr",
     "output_type": "stream",
     "text": [
      "  0%|          | 0/79 [00:00<?, ?it/s]/usr/local/lib/python3.10/dist-packages/audiomentations/augmentations/pitch_shift.py:36: UserWarning: Warning: You are probably using an old version of librosa. Upgrade librosa to 0.9.0 or later for better performance when applying PitchShift to stereo audio.\n",
      "  warnings.warn(\n",
      "/usr/local/lib/python3.10/dist-packages/audiomentations/augmentations/pitch_shift.py:36: UserWarning: Warning: You are probably using an old version of librosa. Upgrade librosa to 0.9.0 or later for better performance when applying PitchShift to stereo audio.\n",
      "  warnings.warn(\n",
      "100%|██████████| 79/79 [05:47<00:00,  4.40s/it]\n",
      "100%|██████████| 2000/2000 [00:27<00:00, 72.48it/s]\n"
     ]
    },
    {
     "name": "stdout",
     "output_type": "stream",
     "text": [
      "epoch: 0, train_loss: 0.018155230593681335, val_loss: 2.29294194740057, acc: 0.1705\n",
      "[0.00458716 0.02475248 0.06842105 0.         0.05235602 0.33495146\n",
      " 0.68926554 0.16504854 0.06779661 0.36057692]\n"
     ]
    },
    {
     "name": "stderr",
     "output_type": "stream",
     "text": [
      "  0%|          | 0/79 [00:00<?, ?it/s]/usr/local/lib/python3.10/dist-packages/audiomentations/augmentations/pitch_shift.py:36: UserWarning: Warning: You are probably using an old version of librosa. Upgrade librosa to 0.9.0 or later for better performance when applying PitchShift to stereo audio.\n",
      "  warnings.warn(\n",
      "100%|██████████| 79/79 [05:43<00:00,  4.35s/it]\n",
      "100%|██████████| 2000/2000 [00:27<00:00, 72.76it/s]\n"
     ]
    },
    {
     "name": "stdout",
     "output_type": "stream",
     "text": [
      "epoch: 1, train_loss: 0.01797297444343567, val_loss: 2.260622967362404, acc: 0.2165\n",
      "[0.         0.02970297 0.01578947 0.00444444 0.02617801 0.7038835\n",
      " 0.55932203 0.14563107 0.08474576 0.62019231]\n"
     ]
    },
    {
     "name": "stderr",
     "output_type": "stream",
     "text": [
      "  0%|          | 0/79 [00:00<?, ?it/s]/usr/local/lib/python3.10/dist-packages/audiomentations/augmentations/pitch_shift.py:36: UserWarning: Warning: You are probably using an old version of librosa. Upgrade librosa to 0.9.0 or later for better performance when applying PitchShift to stereo audio.\n",
      "  warnings.warn(\n",
      "100%|██████████| 79/79 [05:28<00:00,  4.16s/it]\n",
      "100%|██████████| 2000/2000 [00:26<00:00, 76.50it/s]\n"
     ]
    },
    {
     "name": "stdout",
     "output_type": "stream",
     "text": [
      "epoch: 2, train_loss: 0.01765333662033081, val_loss: 2.226066596210003, acc: 0.2335\n",
      "[0.00458716 0.2029703  0.00526316 0.         0.0104712  0.74757282\n",
      " 0.49152542 0.16990291 0.09039548 0.625     ]\n"
     ]
    },
    {
     "name": "stderr",
     "output_type": "stream",
     "text": [
      "  0%|          | 0/79 [00:00<?, ?it/s]/usr/local/lib/python3.10/dist-packages/audiomentations/augmentations/pitch_shift.py:36: UserWarning: Warning: You are probably using an old version of librosa. Upgrade librosa to 0.9.0 or later for better performance when applying PitchShift to stereo audio.\n",
      "  warnings.warn(\n",
      "100%|██████████| 79/79 [05:30<00:00,  4.18s/it]\n",
      "100%|██████████| 2000/2000 [00:26<00:00, 75.78it/s]\n"
     ]
    },
    {
     "name": "stdout",
     "output_type": "stream",
     "text": [
      "epoch: 3, train_loss: 0.01736545548439026, val_loss: 2.207856089115143, acc: 0.262\n",
      "[0.         0.52475248 0.         0.         0.         0.73300971\n",
      " 0.46892655 0.19902913 0.10734463 0.59615385]\n"
     ]
    },
    {
     "name": "stderr",
     "output_type": "stream",
     "text": [
      "  0%|          | 0/79 [00:00<?, ?it/s]/usr/local/lib/python3.10/dist-packages/audiomentations/augmentations/pitch_shift.py:36: UserWarning: Warning: You are probably using an old version of librosa. Upgrade librosa to 0.9.0 or later for better performance when applying PitchShift to stereo audio.\n",
      "  warnings.warn(\n",
      "100%|██████████| 79/79 [05:25<00:00,  4.11s/it]\n",
      "100%|██████████| 2000/2000 [00:26<00:00, 75.77it/s]\n"
     ]
    },
    {
     "name": "stdout",
     "output_type": "stream",
     "text": [
      "epoch: 4, train_loss: 0.017156323444843292, val_loss: 2.188377488195896, acc: 0.2835\n",
      "[0.         0.73762376 0.         0.         0.         0.67961165\n",
      " 0.49717514 0.20873786 0.14124294 0.58653846]\n"
     ]
    },
    {
     "name": "stderr",
     "output_type": "stream",
     "text": [
      "  0%|          | 0/79 [00:00<?, ?it/s]/usr/local/lib/python3.10/dist-packages/audiomentations/augmentations/pitch_shift.py:36: UserWarning: Warning: You are probably using an old version of librosa. Upgrade librosa to 0.9.0 or later for better performance when applying PitchShift to stereo audio.\n",
      "  warnings.warn(\n",
      "100%|██████████| 79/79 [05:28<00:00,  4.16s/it]\n",
      "100%|██████████| 2000/2000 [00:26<00:00, 74.94it/s]\n"
     ]
    },
    {
     "name": "stdout",
     "output_type": "stream",
     "text": [
      "epoch: 5, train_loss: 0.01689266753196716, val_loss: 2.1716101933717726, acc: 0.287\n",
      "[0.         0.83168317 0.         0.         0.         0.6407767\n",
      " 0.48587571 0.18932039 0.23163842 0.51923077]\n"
     ]
    },
    {
     "name": "stderr",
     "output_type": "stream",
     "text": [
      "  0%|          | 0/79 [00:00<?, ?it/s]/usr/local/lib/python3.10/dist-packages/audiomentations/augmentations/pitch_shift.py:36: UserWarning: Warning: You are probably using an old version of librosa. Upgrade librosa to 0.9.0 or later for better performance when applying PitchShift to stereo audio.\n",
      "  warnings.warn(\n",
      "100%|██████████| 79/79 [05:29<00:00,  4.18s/it]\n",
      "100%|██████████| 2000/2000 [00:26<00:00, 76.32it/s]\n"
     ]
    },
    {
     "name": "stdout",
     "output_type": "stream",
     "text": [
      "epoch: 6, train_loss: 0.01673360159397125, val_loss: 2.158861037969589, acc: 0.2935\n",
      "[0.         0.8019802  0.         0.         0.         0.69417476\n",
      " 0.46892655 0.12621359 0.3559322  0.52884615]\n"
     ]
    },
    {
     "name": "stderr",
     "output_type": "stream",
     "text": [
      "  0%|          | 0/79 [00:00<?, ?it/s]/usr/local/lib/python3.10/dist-packages/audiomentations/augmentations/pitch_shift.py:36: UserWarning: Warning: You are probably using an old version of librosa. Upgrade librosa to 0.9.0 or later for better performance when applying PitchShift to stereo audio.\n",
      "  warnings.warn(\n",
      "100%|██████████| 79/79 [05:27<00:00,  4.15s/it]\n",
      "100%|██████████| 2000/2000 [00:26<00:00, 76.32it/s]\n"
     ]
    },
    {
     "name": "stdout",
     "output_type": "stream",
     "text": [
      "epoch: 7, train_loss: 0.016575013053417204, val_loss: 2.1525671423077584, acc: 0.297\n",
      "[0.         0.84653465 0.         0.         0.         0.65533981\n",
      " 0.42372881 0.09223301 0.49717514 0.50961538]\n"
     ]
    },
    {
     "name": "stderr",
     "output_type": "stream",
     "text": [
      "  0%|          | 0/79 [00:00<?, ?it/s]/usr/local/lib/python3.10/dist-packages/audiomentations/augmentations/pitch_shift.py:36: UserWarning: Warning: You are probably using an old version of librosa. Upgrade librosa to 0.9.0 or later for better performance when applying PitchShift to stereo audio.\n",
      "  warnings.warn(\n",
      "100%|██████████| 79/79 [05:29<00:00,  4.17s/it]\n",
      "100%|██████████| 2000/2000 [00:26<00:00, 75.03it/s]\n"
     ]
    },
    {
     "name": "stdout",
     "output_type": "stream",
     "text": [
      "epoch: 8, train_loss: 0.01645995932817459, val_loss: 2.1468028410077094, acc: 0.297\n",
      "[0.         0.84653465 0.         0.         0.         0.6407767\n",
      " 0.35028249 0.13106796 0.51977401 0.52884615]\n"
     ]
    },
    {
     "name": "stderr",
     "output_type": "stream",
     "text": [
      "  0%|          | 0/79 [00:00<?, ?it/s]/usr/local/lib/python3.10/dist-packages/audiomentations/augmentations/pitch_shift.py:36: UserWarning: Warning: You are probably using an old version of librosa. Upgrade librosa to 0.9.0 or later for better performance when applying PitchShift to stereo audio.\n",
      "  warnings.warn(\n",
      "100%|██████████| 79/79 [05:51<00:00,  4.45s/it]\n",
      "100%|██████████| 2000/2000 [00:28<00:00, 69.93it/s]\n"
     ]
    },
    {
     "name": "stdout",
     "output_type": "stream",
     "text": [
      "epoch: 9, train_loss: 0.016411147558689117, val_loss: 2.1393866870999334, acc: 0.305\n",
      "[0.         0.81683168 0.         0.00888889 0.         0.68446602\n",
      " 0.38983051 0.13592233 0.51412429 0.54807692]\n"
     ]
    },
    {
     "name": "stderr",
     "output_type": "stream",
     "text": [
      "  0%|          | 0/79 [00:00<?, ?it/s]/usr/local/lib/python3.10/dist-packages/audiomentations/augmentations/pitch_shift.py:36: UserWarning: Warning: You are probably using an old version of librosa. Upgrade librosa to 0.9.0 or later for better performance when applying PitchShift to stereo audio.\n",
      "  warnings.warn(\n",
      " 42%|████▏     | 33/79 [02:36<03:36,  4.72s/it]"
     ]
    }
   ],
   "source": [
    "# Set the variables to keep track of the best model\n",
    "best_validation_loss = 10000\n",
    "best_model_state = model.state_dict()\n",
    "\n",
    "for epoch in range(config.EPOCHS):\n",
    "  # Set the model in training mode\n",
    "  model.train()\n",
    "\n",
    "  # Train the model\n",
    "  total_train_loss_this_epoch = train_classification_model(\n",
    "      model,\n",
    "      optimizer,\n",
    "      criteria,\n",
    "      grad_scaler,\n",
    "      train_dataloader\n",
    "  )\n",
    "  \n",
    "  # Set the model in evaluation mode\n",
    "  model.eval()\n",
    "\n",
    "  # Validate the model\n",
    "  total_val_loss_this_epoch, pred_classes, true_classes = validate_classification_model(\n",
    "      model,\n",
    "      criteria,\n",
    "      test_dataloader,\n",
    "  )\n",
    "\n",
    "  # Calculate the loss values\n",
    "  train_loss_this_epoch = total_train_loss_this_epoch/len(train_dataloader.dataset)\n",
    "  val_loss_this_epoch = total_val_loss_this_epoch/len(test_dataloader.dataset)\n",
    "\n",
    "  # Calculate the accuracy\n",
    "  acc_avg = accuracy_score(true_classes, pred_classes)\n",
    "\n",
    "  # Calculate acc per class\n",
    "  matrix = confusion_matrix(true_classes, pred_classes)\n",
    "  acc_per_class = matrix.diagonal()/matrix.sum(axis=1)\n",
    "\n",
    "\n",
    "  # Log the train loss this epoch\n",
    "  wandb.log({\n",
    "      'train_loss': train_loss_this_epoch,\n",
    "      'val_loss': val_loss_this_epoch,\n",
    "      'acc': acc_avg,\n",
    "      'acc_per_class': acc_per_class\n",
    "\n",
    "  })\n",
    "\n",
    "  print(f'epoch: {epoch}, train_loss: {train_loss_this_epoch}, val_loss: {val_loss_this_epoch}, acc: {acc_avg}')\n",
    "  print(acc_per_class)\n",
    "\n",
    "  # If this is the best performing model yet, save it\n",
    "  if val_loss_this_epoch < best_validation_loss:\n",
    "    # Update the score\n",
    "    best_validation_loss = val_loss_this_epoch\n",
    "\n",
    "    now = datetime.datetime.now()\n",
    "\n",
    "    # Save the model\n",
    "    checkpoint_path = join(\n",
    "      BASE_PATH, \n",
    "      config.MODEL_CHECKPOINT_PATH, \n",
    "      f'{experiment_name}.pth'\n",
    "    )\n",
    "    best_model_state = model_management.save_model(model, checkpoint_path, False, '')"
   ]
  },
  {
   "cell_type": "code",
   "execution_count": null,
   "metadata": {},
   "outputs": [],
   "source": [
    "now = datetime.datetime.now()\n",
    "\n",
    "# Save the final model\n",
    "checkpoint_path = join(\n",
    "    BASE_PATH, \n",
    "    config.MODEL_CHECKPOINT_PATH, \n",
    "    f'{experiment_name}.pth'\n",
    ")\n",
    "best_model_state = model_management.save_model(model, checkpoint_path, True, f'model_{experiment_name}')"
   ]
  },
  {
   "cell_type": "code",
   "execution_count": null,
   "metadata": {},
   "outputs": [],
   "source": [
    "# Mark the run as finished\n",
    "wandb.finish()"
   ]
  }
 ],
 "metadata": {
  "kernelspec": {
   "display_name": "Python 3.10.6 64-bit",
   "language": "python",
   "name": "python3"
  },
  "language_info": {
   "codemirror_mode": {
    "name": "ipython",
    "version": 3
   },
   "file_extension": ".py",
   "mimetype": "text/x-python",
   "name": "python",
   "nbconvert_exporter": "python",
   "pygments_lexer": "ipython3",
   "version": "3.10.6"
  },
  "orig_nbformat": 4,
  "vscode": {
   "interpreter": {
    "hash": "916dbcbb3f70747c44a77c7bcd40155683ae19c65e1c03b4aa3499c5328201f1"
   }
  }
 },
 "nbformat": 4,
 "nbformat_minor": 2
}
