{
 "cells": [
  {
   "cell_type": "code",
   "execution_count": 1,
   "metadata": {},
   "outputs": [],
   "source": [
    "from os.path import join\n",
    "\n",
    "def setup_file_system(in_colab):\n",
    "    if in_colab:\n",
    "        from google.colab import drive\n",
    "\n",
    "        # Set the base and mount path\n",
    "        MOUNT_PATH_DRIVE = '/content/drive'\n",
    "        BASE_PATH = join(\n",
    "            MOUNT_PATH_DRIVE, \n",
    "            \"MyDrive/project_asr\"\n",
    "        )\n",
    "\n",
    "        # Mount the google drive\n",
    "        drive.mount(MOUNT_PATH_DRIVE)\n",
    "\n",
    "        return BASE_PATH\n",
    "\n",
    "    else:\n",
    "        return \"/workspaces/project_automated_sound_recognition\""
   ]
  },
  {
   "cell_type": "code",
   "execution_count": 2,
   "metadata": {},
   "outputs": [],
   "source": [
    "import sys\n",
    "from os import chdir\n",
    "from os.path import join\n",
    "\n",
    "# Method to check if the notebook is running in colab or local\n",
    "IN_COLAB = 'google.colab' in sys.modules\n",
    "\n",
    "# Set the base path of the project\n",
    "BASE_PATH = setup_file_system(IN_COLAB)\n",
    "\n",
    "# Set the base path of the project\n",
    "chdir(join(BASE_PATH, \"src/\"))"
   ]
  },
  {
   "cell_type": "code",
   "execution_count": 3,
   "metadata": {},
   "outputs": [
    {
     "name": "stderr",
     "output_type": "stream",
     "text": [
      "/usr/local/lib/python3.10/dist-packages/tqdm/auto.py:22: TqdmWarning: IProgress not found. Please update jupyter and ipywidgets. See https://ipywidgets.readthedocs.io/en/stable/user_install.html\n",
      "  from .autonotebook import tqdm as notebook_tqdm\n"
     ]
    }
   ],
   "source": [
    "%load_ext autoreload\n",
    "%autoreload 2\n",
    "\n",
    "# Imports\n",
    "# Utils\n",
    "import matplotlib as plt\n",
    "import numpy as np\n",
    "import wandb\n",
    "import sys\n",
    "import importlib\n",
    "from PIL import Image, ImageFile\n",
    "ImageFile.LOAD_TRUNCATED_IMAGES = True\n",
    "import datetime\n",
    "import json\n",
    "\n",
    "\n",
    "# DL libraries\n",
    "import torch\n",
    "import torch.optim as optim\n",
    "from torch import nn\n",
    "import torch.utils.data \n",
    "from torch.utils.data import DataLoader\n",
    "\n",
    "# User libraries\n",
    "from dataset.audio_sample_dataset import AudioSampleDataset\n",
    "from model.baseline_model import BaselineModel\n",
    "from trainer.trainer import train_classification_model\n",
    "from validator.validator import validate_classification_model\n",
    "from util import config, util_functions, model_management"
   ]
  },
  {
   "cell_type": "code",
   "execution_count": 4,
   "metadata": {},
   "outputs": [],
   "source": [
    "augmentations = {\n",
    "    'pitch_shift': {\n",
    "        'enabled': True,\n",
    "        'p': 0.5,\n",
    "        'min_semitones': -4, \n",
    "        \"max_semitones\": 4,\n",
    "    },\n",
    "    'noise': {\n",
    "        'enabled': True,\n",
    "        'p': 0.5,\n",
    "        'min_amplitude': 0.001,\n",
    "        'max_amplitude': 0.015,\n",
    "    },\n",
    "    'mixup': {\n",
    "        'enabled': True,\n",
    "        'p': 0.5,\n",
    "        'alpha': 0.2,\n",
    "    },\n",
    "    'freq_mask': {\n",
    "        'enabled': True,\n",
    "        'p': 0.5,\n",
    "        'freq_mask_param': 5,\n",
    "    },\n",
    "    'time_mask': {\n",
    "        'enabled': True,\n",
    "        'p': 0.5,\n",
    "        'time_mask_param': 5,\n",
    "    }\n",
    "}\n",
    "\n",
    "test_augmentations = {\n",
    "    'pitch_shift': {\n",
    "        'enabled': False,\n",
    "    },\n",
    "    'noise': {\n",
    "        'enabled': False,\n",
    "    },\n",
    "    'mixup': {\n",
    "        'enabled': False,\n",
    "    },\n",
    "    'freq_mask': {\n",
    "        'enabled': False,\n",
    "    },\n",
    "    'time_mask': {\n",
    "        'enabled': False,\n",
    "    }\n",
    "}"
   ]
  },
  {
   "cell_type": "code",
   "execution_count": 5,
   "metadata": {},
   "outputs": [],
   "source": [
    "# Get the train and test data\n",
    "train_dataset = AudioSampleDataset(\n",
    "        join(BASE_PATH, config.TRAIN_DATA_PATH),\n",
    "        augmentations\n",
    "    )\n",
    "test_dataset = AudioSampleDataset(\n",
    "        join(BASE_PATH, config.TEST_DATA_PATH),\n",
    "        test_augmentations\n",
    "    )\n",
    "\n",
    "# Place in dataloaders\n",
    "train_dataloader = DataLoader(train_dataset, batch_size=config.BATCH_SIZE)\n",
    "test_dataloader = DataLoader(test_dataset, batch_size=1)"
   ]
  },
  {
   "cell_type": "markdown",
   "metadata": {},
   "source": [
    "## Setup"
   ]
  },
  {
   "cell_type": "code",
   "execution_count": 6,
   "metadata": {},
   "outputs": [
    {
     "name": "stderr",
     "output_type": "stream",
     "text": [
      "Using cache found in /root/.cache/torch/hub/pytorch_vision_v0.10.0\n",
      "Failed to detect the name of this notebook, you can set it manually with the WANDB_NOTEBOOK_NAME environment variable to enable code saving.\n",
      "\u001b[34m\u001b[1mwandb\u001b[0m: Currently logged in as: \u001b[33mrobberdg\u001b[0m. Use \u001b[1m`wandb login --relogin`\u001b[0m to force relogin\n"
     ]
    },
    {
     "data": {
      "text/html": [
       "Tracking run with wandb version 0.13.6"
      ],
      "text/plain": [
       "<IPython.core.display.HTML object>"
      ]
     },
     "metadata": {},
     "output_type": "display_data"
    },
    {
     "data": {
      "text/html": [
       "Run data is saved locally in <code>/workspaces/project_automated_sound_recognition/src/wandb/run-20221212_232712-2bo1w37v</code>"
      ],
      "text/plain": [
       "<IPython.core.display.HTML object>"
      ]
     },
     "metadata": {},
     "output_type": "display_data"
    },
    {
     "data": {
      "text/html": [
       "Syncing run <strong><a href=\"https://wandb.ai/robberdg/project_asr/runs/2bo1w37v\" target=\"_blank\">128_1e-05_npmft_12_12_2022_23_27_12</a></strong> to <a href=\"https://wandb.ai/robberdg/project_asr\" target=\"_blank\">Weights & Biases</a> (<a href=\"https://wandb.me/run\" target=\"_blank\">docs</a>)<br/>"
      ],
      "text/plain": [
       "<IPython.core.display.HTML object>"
      ]
     },
     "metadata": {},
     "output_type": "display_data"
    },
    {
     "data": {
      "text/html": [
       "<button onClick=\"this.nextSibling.style.display='block';this.style.display='none';\">Display W&B run</button><iframe src=\"https://wandb.ai/robberdg/project_asr/runs/2bo1w37v?jupyter=true\" style=\"border:none;width:100%;height:420px;display:none;\"></iframe>"
      ],
      "text/plain": [
       "<wandb.sdk.wandb_run.Run at 0x146fb3fb33a0>"
      ]
     },
     "execution_count": 6,
     "metadata": {},
     "output_type": "execute_result"
    }
   ],
   "source": [
    "# Clear gpu cache\n",
    "torch.cuda.empty_cache()\n",
    "\n",
    "# Get the model\n",
    "model = torch.hub.load('pytorch/vision:v0.10.0', 'resnet18', pretrained=True)\n",
    "model.fc = nn.Sequential(\n",
    "    nn.Linear(in_features=512, out_features= 256),\n",
    "    nn.ReLU(),\n",
    "    nn.Dropout(0.5),\n",
    "    nn.Linear(in_features=256, out_features=len(config.LABELS)),\n",
    "    nn.Softmax(dim= 1)\n",
    ")\n",
    "model.to(config.DEVICE)\n",
    "\n",
    "# Set the optimizer\n",
    "optimizer = optim.Adam(model.parameters(), lr=config.LR)\n",
    "\n",
    "# Set the loss fn\n",
    "criteria = nn.CrossEntropyLoss()\n",
    "\n",
    "# Set the gradient scaler\n",
    "grad_scaler = torch.cuda.amp.grad_scaler.GradScaler()\n",
    "\n",
    "# Setup weights and biasses\n",
    "wandb.login()\n",
    "\n",
    "# Get the current time for the checkpoint name\n",
    "now = datetime.datetime.now()\n",
    "\n",
    "# Set the wandb experiment name\n",
    "experiment_name = util_functions.generate_run_name_from_config(augmentations)\n",
    "\n",
    "# Start wandb\n",
    "wandb.init(\n",
    "    settings=wandb.Settings(start_method=\"fork\"),\n",
    "    project=\"project_asr\", \n",
    "    name=experiment_name, \n",
    "    config={\n",
    "        \"learning_rate\": config.LR,\n",
    "        \"batch_size\": config.BATCH_SIZE,\n",
    "        \"epochs\": config.EPOCHS,\n",
    "        \"augmentations\": json.dumps(augmentations),\n",
    "    }\n",
    ")\n"
   ]
  },
  {
   "cell_type": "markdown",
   "metadata": {},
   "source": [
    "## Training"
   ]
  },
  {
   "cell_type": "code",
   "execution_count": 7,
   "metadata": {},
   "outputs": [
    {
     "name": "stderr",
     "output_type": "stream",
     "text": [
      "  0%|          | 0/79 [00:00<?, ?it/s]/usr/local/lib/python3.10/dist-packages/audiomentations/augmentations/pitch_shift.py:36: UserWarning: Warning: You are probably using an old version of librosa. Upgrade librosa to 0.9.0 or later for better performance when applying PitchShift to stereo audio.\n",
      "  warnings.warn(\n",
      "/usr/local/lib/python3.10/dist-packages/audiomentations/augmentations/pitch_shift.py:36: UserWarning: Warning: You are probably using an old version of librosa. Upgrade librosa to 0.9.0 or later for better performance when applying PitchShift to stereo audio.\n",
      "  warnings.warn(\n",
      " 49%|████▉     | 39/79 [06:07<07:26, 11.16s/it]"
     ]
    }
   ],
   "source": [
    "# Set the variables to keep track of the best model\n",
    "best_validation_loss = 10000\n",
    "best_model_state = model.state_dict()\n",
    "\n",
    "for epoch in range(config.EPOCHS):\n",
    "  # Set the model in training mode\n",
    "  model.train()\n",
    "\n",
    "  # Train the model\n",
    "  total_train_loss_this_epoch = train_classification_model(\n",
    "      model,\n",
    "      optimizer,\n",
    "      criteria,\n",
    "      grad_scaler,\n",
    "      train_dataloader\n",
    "  )\n",
    "  \n",
    "  # Set the model in evaluation mode\n",
    "  model.eval()\n",
    "\n",
    "  # Validate the model\n",
    "  total_val_loss_this_epoch, f1, f1_avg, accuracy = validate_classification_model(\n",
    "      model,\n",
    "      criteria,\n",
    "      test_dataloader,\n",
    "  )\n",
    "\n",
    "  # Calculate the loss values\n",
    "  train_loss_this_epoch = total_train_loss_this_epoch/len(train_dataloader.dataset)\n",
    "  val_loss_this_epoch = total_val_loss_this_epoch/len(test_dataloader.dataset)\n",
    "\n",
    "  # Log the train loss this epoch\n",
    "  wandb.log({\n",
    "      'train_loss': train_loss_this_epoch,\n",
    "      'val_loss': val_loss_this_epoch,\n",
    "      'f1_score': f1_avg,\n",
    "      'acc': accuracy\n",
    "  })\n",
    "\n",
    "  print(f'epoch: {epoch}, train_loss: {train_loss_this_epoch}, val_loss: {val_loss_this_epoch}. f1: {f1_avg}, acc: {accuracy}')\n",
    "  print(f1)\n",
    "\n",
    "  # If this is the best performing model yet, save it\n",
    "  if val_loss_this_epoch < best_validation_loss:\n",
    "    # Update the score\n",
    "    best_validation_loss = val_loss_this_epoch\n",
    "\n",
    "    now = datetime.datetime.now()\n",
    "\n",
    "    # Save the model\n",
    "    checkpoint_path = join(\n",
    "      BASE_PATH, \n",
    "      config.MODEL_CHECKPOINT_PATH, \n",
    "      f'{experiment_name}.pth'\n",
    "    )\n",
    "    best_model_state = model_management.save_model(model, checkpoint_path, False, '')"
   ]
  },
  {
   "cell_type": "code",
   "execution_count": null,
   "metadata": {},
   "outputs": [],
   "source": [
    "now = datetime.datetime.now()\n",
    "\n",
    "# Save the final model\n",
    "checkpoint_path = join(\n",
    "    BASE_PATH, \n",
    "    config.MODEL_CHECKPOINT_PATH, \n",
    "    f'{experiment_name}.pth'\n",
    ")\n",
    "best_model_state = model_management.save_model(model, checkpoint_path, True, 'final_classification_model_unsegmented')"
   ]
  },
  {
   "cell_type": "code",
   "execution_count": null,
   "metadata": {},
   "outputs": [
    {
     "data": {
      "text/html": [
       "Waiting for W&B process to finish... <strong style=\"color:green\">(success).</strong>"
      ],
      "text/plain": [
       "<IPython.core.display.HTML object>"
      ]
     },
     "metadata": {},
     "output_type": "display_data"
    },
    {
     "data": {
      "text/html": [
       "<style>\n",
       "    table.wandb td:nth-child(1) { padding: 0 10px; text-align: left ; width: auto;} td:nth-child(2) {text-align: left ; width: 100%}\n",
       "    .wandb-row { display: flex; flex-direction: row; flex-wrap: wrap; justify-content: flex-start; width: 100% }\n",
       "    .wandb-col { display: flex; flex-direction: column; flex-basis: 100%; flex: 1; padding: 10px; }\n",
       "    </style>\n",
       "<div class=\"wandb-row\"><div class=\"wandb-col\"><h3>Run history:</h3><br/><table class=\"wandb\"><tr><td>acc</td><td>▁▃▄▅▆▆▇█▇███████████</td></tr><tr><td>f1_score</td><td>▁▂▃▄▅▅▆▇▇███████████</td></tr><tr><td>train_loss</td><td>██▇▇▆▆▅▅▄▄▄▃▃▂▂▂▂▁▁▁</td></tr><tr><td>val_loss</td><td>█▇▆▅▄▄▃▃▂▂▁▁▁▁▁▁▁▁▁▁</td></tr></table><br/></div><div class=\"wandb-col\"><h3>Run summary:</h3><br/><table class=\"wandb\"><tr><td>acc</td><td>0.3435</td></tr><tr><td>f1_score</td><td>0.34412</td></tr><tr><td>train_loss</td><td>0.01278</td></tr><tr><td>val_loss</td><td>2.11224</td></tr></table><br/></div></div>"
      ],
      "text/plain": [
       "<IPython.core.display.HTML object>"
      ]
     },
     "metadata": {},
     "output_type": "display_data"
    },
    {
     "data": {
      "text/html": [
       "Synced <strong style=\"color:#cdcd00\">128_1e-05_npmft_12_12_2022_22_36_40</strong>: <a href=\"https://wandb.ai/robberdg/project_asr/runs/qdqsc6bv\" target=\"_blank\">https://wandb.ai/robberdg/project_asr/runs/qdqsc6bv</a><br/>Synced 5 W&B file(s), 0 media file(s), 1 artifact file(s) and 0 other file(s)"
      ],
      "text/plain": [
       "<IPython.core.display.HTML object>"
      ]
     },
     "metadata": {},
     "output_type": "display_data"
    },
    {
     "data": {
      "text/html": [
       "Find logs at: <code>./wandb/run-20221212_223640-qdqsc6bv/logs</code>"
      ],
      "text/plain": [
       "<IPython.core.display.HTML object>"
      ]
     },
     "metadata": {},
     "output_type": "display_data"
    }
   ],
   "source": [
    "# Mark the run as finished\n",
    "wandb.finish()"
   ]
  }
 ],
 "metadata": {
  "kernelspec": {
   "display_name": "Python 3.10.6 64-bit",
   "language": "python",
   "name": "python3"
  },
  "language_info": {
   "codemirror_mode": {
    "name": "ipython",
    "version": 3
   },
   "file_extension": ".py",
   "mimetype": "text/x-python",
   "name": "python",
   "nbconvert_exporter": "python",
   "pygments_lexer": "ipython3",
   "version": "3.10.6"
  },
  "orig_nbformat": 4,
  "vscode": {
   "interpreter": {
    "hash": "916dbcbb3f70747c44a77c7bcd40155683ae19c65e1c03b4aa3499c5328201f1"
   }
  }
 },
 "nbformat": 4,
 "nbformat_minor": 2
}
