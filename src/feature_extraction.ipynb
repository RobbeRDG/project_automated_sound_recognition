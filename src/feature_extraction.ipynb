{
 "cells": [
  {
   "cell_type": "markdown",
   "metadata": {},
   "source": [
    "# Feature extraction\n",
    "For each of the experiments, already perform the offline augmentation"
   ]
  },
  {
   "cell_type": "code",
   "execution_count": 1,
   "metadata": {},
   "outputs": [],
   "source": [
    "%load_ext autoreload\n",
    "%autoreload 2\n",
    "\n",
    "from util import config, util\n",
    "import os\n",
    "import zipfile\n",
    "from os.path import join\n",
    "import random\n",
    "import pandas as pd\n",
    "import numpy as np\n",
    "import shutil\n",
    "from audiomentations import Compose, AddGaussianNoise, TimeStretch, PitchShift, Shift"
   ]
  },
  {
   "cell_type": "markdown",
   "metadata": {},
   "source": [
    "## Step 1: Get the raw_feature train and test filenames"
   ]
  },
  {
   "cell_type": "code",
   "execution_count": 5,
   "metadata": {},
   "outputs": [],
   "source": [
    "raw_feature_train_files_base_path = join(config.RAW_SUBSET_DATA_PATH, 'train/audio')\n",
    "raw_feature_test_files_base_path = join(config.RAW_SUBSET_DATA_PATH, 'test/audio')\n",
    "\n",
    "# Create a list of full path filenames of the train and test raw feature files\n",
    "raw_feature_train_filenames = [join(raw_feature_train_files_base_path, file) for file in os.listdir(raw_feature_train_files_base_path)]\n",
    "raw_feature_test_filenames = [join(raw_feature_test_files_base_path, file) for file in os.listdir(raw_feature_test_files_base_path)]"
   ]
  },
  {
   "cell_type": "markdown",
   "metadata": {},
   "source": [
    "## Step 2: Generate the un-augmented train and test features to train the baseline model"
   ]
  },
  {
   "cell_type": "code",
   "execution_count": 4,
   "metadata": {},
   "outputs": [
    {
     "name": "stderr",
     "output_type": "stream",
     "text": [
      "  0%|          | 0/5 [00:00<?, ?it/s]\n",
      "  0%|          | 0/1 [00:00<?, ?it/s]\n"
     ]
    },
    {
     "ename": "LibsndfileError",
     "evalue": "Error opening '/workspaces/project_automated_sound_recognition/data/raw/subset/train/audio': Format not recognised.",
     "output_type": "error",
     "traceback": [
      "\u001b[0;31m---------------------------------------------------------------------------\u001b[0m",
      "\u001b[0;31mLibsndfileError\u001b[0m                           Traceback (most recent call last)",
      "Cell \u001b[0;32mIn[4], line 2\u001b[0m\n\u001b[1;32m      1\u001b[0m \u001b[39m# Since we dont want to apply any augmentation, we can just set augment to false\u001b[39;00m\n\u001b[0;32m----> 2\u001b[0m util\u001b[39m.\u001b[39;49mgenerate_and_store_augmented_mel_features(\n\u001b[1;32m      3\u001b[0m         raw_feature_train_filenames, \n\u001b[1;32m      4\u001b[0m         config\u001b[39m.\u001b[39;49mTRAIN_DATA_BASELINE,\n\u001b[1;32m      5\u001b[0m         n_copies\u001b[39m=\u001b[39;49m\u001b[39m5\u001b[39;49m, \n\u001b[1;32m      6\u001b[0m         augment\u001b[39m=\u001b[39;49m\u001b[39mFalse\u001b[39;49;00m\n\u001b[1;32m      7\u001b[0m     )\n\u001b[1;32m      8\u001b[0m util\u001b[39m.\u001b[39mgenerate_and_store_augmented_mel_features(\n\u001b[1;32m      9\u001b[0m         raw_feature_test_filenames, \n\u001b[1;32m     10\u001b[0m         config\u001b[39m.\u001b[39mTEST_DATA_BASE_PATH, \n\u001b[1;32m     11\u001b[0m         n_copies\u001b[39m=\u001b[39m\u001b[39m1\u001b[39m, \n\u001b[1;32m     12\u001b[0m         augment\u001b[39m=\u001b[39m\u001b[39mFalse\u001b[39;00m\n\u001b[1;32m     13\u001b[0m     )\n",
      "File \u001b[0;32m/workspaces/project_automated_sound_recognition/src/util/util.py:68\u001b[0m, in \u001b[0;36mgenerate_and_store_augmented_mel_features\u001b[0;34m(files_list, result_export_path, n_copies, augment, audiomentations_config, specaugment_config)\u001b[0m\n\u001b[1;32m     65\u001b[0m \u001b[39mfor\u001b[39;00m file \u001b[39min\u001b[39;00m tqdm(files_list):\n\u001b[1;32m     66\u001b[0m     \u001b[39mfor\u001b[39;00m copy \u001b[39min\u001b[39;00m tqdm(\u001b[39mrange\u001b[39m(n_copies)):\n\u001b[1;32m     67\u001b[0m         \u001b[39m# Read the audio data\u001b[39;00m\n\u001b[0;32m---> 68\u001b[0m         in_data, samplerate \u001b[39m=\u001b[39m sf\u001b[39m.\u001b[39;49mread(file)\n\u001b[1;32m     70\u001b[0m         \u001b[39m# TODO, find out why this is needed\u001b[39;00m\n\u001b[1;32m     71\u001b[0m         \u001b[39m#if in_data.shape[1] >=2:\u001b[39;00m\n\u001b[1;32m     72\u001b[0m         \u001b[39m#    in_data = in_data[:,1]\u001b[39;00m\n\u001b[1;32m     73\u001b[0m         \n\u001b[1;32m     74\u001b[0m         \u001b[39m# Give error if samplerate is different from featconf['samFreq']\u001b[39;00m\n\u001b[1;32m     75\u001b[0m         \u001b[39massert\u001b[39;00m samplerate \u001b[39m==\u001b[39m config\u001b[39m.\u001b[39mfeatconf[\u001b[39m'\u001b[39m\u001b[39msamFreq\u001b[39m\u001b[39m'\u001b[39m], \u001b[39m\"\u001b[39m\u001b[39mSamplerate of the .wav file differs from the feature configuration!\u001b[39m\u001b[39m\"\u001b[39m\n",
      "File \u001b[0;32m/usr/local/lib/python3.10/dist-packages/soundfile.py:282\u001b[0m, in \u001b[0;36mread\u001b[0;34m(file, frames, start, stop, dtype, always_2d, fill_value, out, samplerate, channels, format, subtype, endian, closefd)\u001b[0m\n\u001b[1;32m    196\u001b[0m \u001b[39mdef\u001b[39;00m \u001b[39mread\u001b[39m(file, frames\u001b[39m=\u001b[39m\u001b[39m-\u001b[39m\u001b[39m1\u001b[39m, start\u001b[39m=\u001b[39m\u001b[39m0\u001b[39m, stop\u001b[39m=\u001b[39m\u001b[39mNone\u001b[39;00m, dtype\u001b[39m=\u001b[39m\u001b[39m'\u001b[39m\u001b[39mfloat64\u001b[39m\u001b[39m'\u001b[39m, always_2d\u001b[39m=\u001b[39m\u001b[39mFalse\u001b[39;00m,\n\u001b[1;32m    197\u001b[0m          fill_value\u001b[39m=\u001b[39m\u001b[39mNone\u001b[39;00m, out\u001b[39m=\u001b[39m\u001b[39mNone\u001b[39;00m, samplerate\u001b[39m=\u001b[39m\u001b[39mNone\u001b[39;00m, channels\u001b[39m=\u001b[39m\u001b[39mNone\u001b[39;00m,\n\u001b[1;32m    198\u001b[0m          \u001b[39mformat\u001b[39m\u001b[39m=\u001b[39m\u001b[39mNone\u001b[39;00m, subtype\u001b[39m=\u001b[39m\u001b[39mNone\u001b[39;00m, endian\u001b[39m=\u001b[39m\u001b[39mNone\u001b[39;00m, closefd\u001b[39m=\u001b[39m\u001b[39mTrue\u001b[39;00m):\n\u001b[1;32m    199\u001b[0m     \u001b[39m\"\"\"Provide audio data from a sound file as NumPy array.\u001b[39;00m\n\u001b[1;32m    200\u001b[0m \n\u001b[1;32m    201\u001b[0m \u001b[39m    By default, the whole file is read from the beginning, but the\u001b[39;00m\n\u001b[0;32m   (...)\u001b[0m\n\u001b[1;32m    280\u001b[0m \n\u001b[1;32m    281\u001b[0m \u001b[39m    \"\"\"\u001b[39;00m\n\u001b[0;32m--> 282\u001b[0m     \u001b[39mwith\u001b[39;00m SoundFile(file, \u001b[39m'\u001b[39;49m\u001b[39mr\u001b[39;49m\u001b[39m'\u001b[39;49m, samplerate, channels,\n\u001b[1;32m    283\u001b[0m                    subtype, endian, \u001b[39mformat\u001b[39;49m, closefd) \u001b[39mas\u001b[39;00m f:\n\u001b[1;32m    284\u001b[0m         frames \u001b[39m=\u001b[39m f\u001b[39m.\u001b[39m_prepare_read(start, stop, frames)\n\u001b[1;32m    285\u001b[0m         data \u001b[39m=\u001b[39m f\u001b[39m.\u001b[39mread(frames, dtype, always_2d, fill_value, out)\n",
      "File \u001b[0;32m/usr/local/lib/python3.10/dist-packages/soundfile.py:655\u001b[0m, in \u001b[0;36mSoundFile.__init__\u001b[0;34m(self, file, mode, samplerate, channels, subtype, endian, format, closefd)\u001b[0m\n\u001b[1;32m    652\u001b[0m \u001b[39mself\u001b[39m\u001b[39m.\u001b[39m_mode \u001b[39m=\u001b[39m mode\n\u001b[1;32m    653\u001b[0m \u001b[39mself\u001b[39m\u001b[39m.\u001b[39m_info \u001b[39m=\u001b[39m _create_info_struct(file, mode, samplerate, channels,\n\u001b[1;32m    654\u001b[0m                                  \u001b[39mformat\u001b[39m, subtype, endian)\n\u001b[0;32m--> 655\u001b[0m \u001b[39mself\u001b[39m\u001b[39m.\u001b[39m_file \u001b[39m=\u001b[39m \u001b[39mself\u001b[39;49m\u001b[39m.\u001b[39;49m_open(file, mode_int, closefd)\n\u001b[1;32m    656\u001b[0m \u001b[39mif\u001b[39;00m \u001b[39mset\u001b[39m(mode)\u001b[39m.\u001b[39missuperset(\u001b[39m'\u001b[39m\u001b[39mr+\u001b[39m\u001b[39m'\u001b[39m) \u001b[39mand\u001b[39;00m \u001b[39mself\u001b[39m\u001b[39m.\u001b[39mseekable():\n\u001b[1;32m    657\u001b[0m     \u001b[39m# Move write position to 0 (like in Python file objects)\u001b[39;00m\n\u001b[1;32m    658\u001b[0m     \u001b[39mself\u001b[39m\u001b[39m.\u001b[39mseek(\u001b[39m0\u001b[39m)\n",
      "File \u001b[0;32m/usr/local/lib/python3.10/dist-packages/soundfile.py:1213\u001b[0m, in \u001b[0;36mSoundFile._open\u001b[0;34m(self, file, mode_int, closefd)\u001b[0m\n\u001b[1;32m   1210\u001b[0m \u001b[39mif\u001b[39;00m file_ptr \u001b[39m==\u001b[39m _ffi\u001b[39m.\u001b[39mNULL:\n\u001b[1;32m   1211\u001b[0m     \u001b[39m# get the actual error code\u001b[39;00m\n\u001b[1;32m   1212\u001b[0m     err \u001b[39m=\u001b[39m _snd\u001b[39m.\u001b[39msf_error(file_ptr)\n\u001b[0;32m-> 1213\u001b[0m     \u001b[39mraise\u001b[39;00m LibsndfileError(err, prefix\u001b[39m=\u001b[39m\u001b[39m\"\u001b[39m\u001b[39mError opening \u001b[39m\u001b[39m{0!r}\u001b[39;00m\u001b[39m: \u001b[39m\u001b[39m\"\u001b[39m\u001b[39m.\u001b[39mformat(\u001b[39mself\u001b[39m\u001b[39m.\u001b[39mname))\n\u001b[1;32m   1214\u001b[0m \u001b[39mif\u001b[39;00m mode_int \u001b[39m==\u001b[39m _snd\u001b[39m.\u001b[39mSFM_WRITE:\n\u001b[1;32m   1215\u001b[0m     \u001b[39m# Due to a bug in libsndfile version <= 1.0.25, frames != 0\u001b[39;00m\n\u001b[1;32m   1216\u001b[0m     \u001b[39m# when opening a named pipe in SFM_WRITE mode.\u001b[39;00m\n\u001b[1;32m   1217\u001b[0m     \u001b[39m# See http://github.com/erikd/libsndfile/issues/77.\u001b[39;00m\n\u001b[1;32m   1218\u001b[0m     \u001b[39mself\u001b[39m\u001b[39m.\u001b[39m_info\u001b[39m.\u001b[39mframes \u001b[39m=\u001b[39m \u001b[39m0\u001b[39m\n",
      "\u001b[0;31mLibsndfileError\u001b[0m: Error opening '/workspaces/project_automated_sound_recognition/data/raw/subset/train/audio': Format not recognised."
     ]
    }
   ],
   "source": [
    "# Since we dont want to apply any augmentation, we can just set augment to false\n",
    "util.generate_and_store_augmented_mel_features(\n",
    "        raw_feature_train_filenames, \n",
    "        config.TRAIN_DATA_BASELINE,\n",
    "        n_copies=5, \n",
    "        augment=False\n",
    "    )\n",
    "util.generate_and_store_augmented_mel_features(\n",
    "        raw_feature_test_filenames, \n",
    "        config.TEST_DATA_BASE_PATH, \n",
    "        n_copies=1, \n",
    "        augment=False\n",
    "    )"
   ]
  },
  {
   "cell_type": "markdown",
   "metadata": {},
   "source": [
    "## Step 4: Generate the train and test features for the 3 experiments"
   ]
  },
  {
   "cell_type": "code",
   "execution_count": null,
   "metadata": {},
   "outputs": [],
   "source": [
    "# Experiment 1: all augmentation methods\n",
    "\n",
    "# Set the audiomentations config\n",
    "audiomentations_config = {\n",
    "    'augmentations': Compose([\n",
    "        PitchShift(min_semitones=-4, max_semitones=4, p=0.5),\n",
    "        AddGaussianNoise(min_amplitude=0.001, max_amplitude=0.015, p=0.5),\n",
    "        TimeStretch(min_rate=0.8, max_rate=1.25, p=0.5),\n",
    "        Shift(min_fraction=-0.5, max_fraction=0.5, p=0.5),\n",
    "    ])\n",
    "}\n",
    "\n",
    "# Set the spec augment configurations\n",
    "specaugment_config = {\n",
    "    'configuration': {\n",
    "        'mask_fraction_min':0.02,\n",
    "        'mask_fraction_max':0.02,\n",
    "        'mask_fraction_min_time':0.04,\n",
    "        'mask_fraction_max_time':0.04,\n",
    "        'p_spec_augment':0.5,\n",
    "        'fill_val':0,\n",
    "        'num_freq_lines':5,\n",
    "        'num_time_lines':3,\n",
    "    }\n",
    "}\n",
    "\n",
    "util.generate_and_store_augmented_mel_features(\n",
    "        files_list = raw_feature_train_filenames, \n",
    "        result_export_path = join(config.TRAIN_DATA_EX1, 'all_augment'),\n",
    "        n_copies = config.N_COPIES, \n",
    "        augment = True,\n",
    "        audiomentations_config = audiomentations_config,\n",
    "        specaugment_config = specaugment_config\n",
    "    )"
   ]
  }
 ],
 "metadata": {
  "kernelspec": {
   "display_name": "Python 3.10.6 64-bit",
   "language": "python",
   "name": "python3"
  },
  "language_info": {
   "codemirror_mode": {
    "name": "ipython",
    "version": 3
   },
   "file_extension": ".py",
   "mimetype": "text/x-python",
   "name": "python",
   "nbconvert_exporter": "python",
   "pygments_lexer": "ipython3",
   "version": "3.10.6"
  },
  "orig_nbformat": 4,
  "vscode": {
   "interpreter": {
    "hash": "916dbcbb3f70747c44a77c7bcd40155683ae19c65e1c03b4aa3499c5328201f1"
   }
  }
 },
 "nbformat": 4,
 "nbformat_minor": 2
}
