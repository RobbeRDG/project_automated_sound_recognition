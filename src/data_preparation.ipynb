{
 "cells": [
  {
   "cell_type": "code",
   "execution_count": 15,
   "metadata": {},
   "outputs": [
    {
     "name": "stdout",
     "output_type": "stream",
     "text": [
      "The autoreload extension is already loaded. To reload it, use:\n",
      "  %reload_ext autoreload\n"
     ]
    }
   ],
   "source": [
    "%load_ext autoreload\n",
    "%autoreload 2\n",
    "\n",
    "from util import config, util\n",
    "import os\n",
    "import zipfile\n",
    "from os.path import join\n",
    "import random\n",
    "import pandas as pd\n",
    "import numpy as np\n",
    "import shutil\n",
    "\n",
    "# Random seeds for reproducebility\n",
    "random.seed(10)\n",
    "np.random.seed(10)"
   ]
  },
  {
   "cell_type": "markdown",
   "metadata": {},
   "source": [
    "## Step 1: Download and unzip the DCASE 2022 task 1 dataset"
   ]
  },
  {
   "cell_type": "code",
   "execution_count": null,
   "metadata": {},
   "outputs": [],
   "source": [
    "# Get the raw development dataset\n",
    "!zenodo_get -o {config.RAW_DATA_ZIP_PATH} -d 10.5281/zenodo.6337421"
   ]
  },
  {
   "cell_type": "code",
   "execution_count": null,
   "metadata": {},
   "outputs": [],
   "source": [
    "# After the dataset is downloaded, unzip it\n",
    "for item in os.listdir(config.RAW_DATA_ZIP_PATH):\n",
    "    if item.endswith(\".zip\"):\n",
    "        # Create a zipfile object and unpack it\n",
    "        zip_ref = zipfile.ZipFile(join(config.RAW_DATA_ZIP_PATH, item)) \n",
    "        zip_ref.extractall(config.RAW_DATA_PATH)\n",
    "        zip_ref.close()"
   ]
  },
  {
   "cell_type": "markdown",
   "metadata": {},
   "source": [
    "# Augmentations to try\n",
    "- pitch shifting\n",
    "- mixup\n",
    "- time and freq masking\n",
    "- gaussian noise\n",
    "- time stretch\n",
    "- shifting"
   ]
  },
  {
   "cell_type": "markdown",
   "metadata": {},
   "source": [
    "## Step 2: Randomly pick a number of samples from the dataset"
   ]
  },
  {
   "cell_type": "code",
   "execution_count": 16,
   "metadata": {},
   "outputs": [],
   "source": [
    "# Since the 139 970 train and 29 680 test data points provided by the DCASE dataset are to many for my current computational resources, \n",
    "# randomly take a subset of 10 000 train and 2 000 test data points\n",
    "\n",
    "# Load the test and train fold csvs\n",
    "train_metadata = pd.read_csv(config.TRAIN_METADATA_FILE, sep='\\t', delimiter=None, names=['filename', 'scene_label'])\n",
    "test_metadata = pd.read_csv(config.TEST_METADATA_FILE, sep='\\t', delimiter=None, names=['filename'])\n",
    "\n",
    "# Randomly sample 10 000 train and 2 000 test data points\n",
    "train_metadata_subset = train_metadata.sample(n=10000)\n",
    "test_metadata_subset = test_metadata.sample(n=2000)"
   ]
  },
  {
   "cell_type": "markdown",
   "metadata": {},
   "source": [
    "# Step 3: Generate the un-augmented train and test features to train the baseline model"
   ]
  },
  {
   "cell_type": "code",
   "execution_count": 17,
   "metadata": {},
   "outputs": [
    {
     "ename": "FileNotFoundError",
     "evalue": "[Errno 2] No such file or directory: '/subset/test/audio/airport-lisbon-1175-44669-2-s4.wav'",
     "output_type": "error",
     "traceback": [
      "\u001b[0;31m---------------------------------------------------------------------------\u001b[0m",
      "\u001b[0;31mFileNotFoundError\u001b[0m                         Traceback (most recent call last)",
      "Cell \u001b[0;32mIn[17], line 9\u001b[0m\n\u001b[1;32m      5\u001b[0m \u001b[39m# Copy the files to the raw subset folder\u001b[39;00m\n\u001b[1;32m      6\u001b[0m \u001b[39m#for train_file in train_files_list:\u001b[39;00m\n\u001b[1;32m      7\u001b[0m \u001b[39m#    shutil.copyfile(join(config.RAW_DATA_PATH, train_file), join(config.RAW_DATA_BASE_PATH, f'subset/train/{train_file}'))\u001b[39;00m\n\u001b[1;32m      8\u001b[0m \u001b[39mfor\u001b[39;00m test_file \u001b[39min\u001b[39;00m test_files_list:\n\u001b[0;32m----> 9\u001b[0m     shutil\u001b[39m.\u001b[39;49mcopyfile(join(config\u001b[39m.\u001b[39;49mRAW_DATA_PATH, test_file), join(config\u001b[39m.\u001b[39;49mRAW_DATA_BASE_PATH, \u001b[39mf\u001b[39;49m\u001b[39m'\u001b[39;49m\u001b[39m/subset/test/\u001b[39;49m\u001b[39m{\u001b[39;49;00mtest_file\u001b[39m}\u001b[39;49;00m\u001b[39m'\u001b[39;49m))\n\u001b[1;32m     11\u001b[0m \u001b[39m# Since we dont want to apply any augmentation, we can just set augment to false\u001b[39;00m\n\u001b[1;32m     12\u001b[0m \u001b[39m#util.generate_and_store_augmented_mel_features(train_files_list, config.TRAIN_DATA_EX1, n_copies=5, augment=False)\u001b[39;00m\n\u001b[1;32m     13\u001b[0m \u001b[39m#util.generate_and_store_augmented_mel_features(test_files_list, config.TEST_DATA_BASE_PATH, n_copies=1, augment=False)\u001b[39;00m\n",
      "File \u001b[0;32m/usr/lib/python3.10/shutil.py:256\u001b[0m, in \u001b[0;36mcopyfile\u001b[0;34m(src, dst, follow_symlinks)\u001b[0m\n\u001b[1;32m    254\u001b[0m \u001b[39mwith\u001b[39;00m \u001b[39mopen\u001b[39m(src, \u001b[39m'\u001b[39m\u001b[39mrb\u001b[39m\u001b[39m'\u001b[39m) \u001b[39mas\u001b[39;00m fsrc:\n\u001b[1;32m    255\u001b[0m     \u001b[39mtry\u001b[39;00m:\n\u001b[0;32m--> 256\u001b[0m         \u001b[39mwith\u001b[39;00m \u001b[39mopen\u001b[39;49m(dst, \u001b[39m'\u001b[39;49m\u001b[39mwb\u001b[39;49m\u001b[39m'\u001b[39;49m) \u001b[39mas\u001b[39;00m fdst:\n\u001b[1;32m    257\u001b[0m             \u001b[39m# macOS\u001b[39;00m\n\u001b[1;32m    258\u001b[0m             \u001b[39mif\u001b[39;00m _HAS_FCOPYFILE:\n\u001b[1;32m    259\u001b[0m                 \u001b[39mtry\u001b[39;00m:\n",
      "\u001b[0;31mFileNotFoundError\u001b[0m: [Errno 2] No such file or directory: '/subset/test/audio/airport-lisbon-1175-44669-2-s4.wav'"
     ]
    }
   ],
   "source": [
    "# Get the train files list\n",
    "train_files_list = train_metadata_subset[\"filename\"]\n",
    "test_files_list = test_metadata_subset[\"filename\"]\n",
    "\n",
    "# Copy the files to the raw subset folder\n",
    "#for train_file in train_files_list:\n",
    "#    shutil.copyfile(join(config.RAW_DATA_PATH, train_file), join(config.RAW_DATA_BASE_PATH, f'subset/train/{train_file}'))\n",
    "for test_file in test_files_list:\n",
    "    shutil.copyfile(join(config.RAW_DATA_PATH, test_file), join(config.RAW_DATA_BASE_PATH, f'subset/test/{test_file}'))\n",
    "\n",
    "# Since we dont want to apply any augmentation, we can just set augment to false\n",
    "#util.generate_and_store_augmented_mel_features(train_files_list, config.TRAIN_DATA_EX1, n_copies=5, augment=False)\n",
    "#util.generate_and_store_augmented_mel_features(test_files_list, config.TEST_DATA_BASE_PATH, n_copies=1, augment=False)"
   ]
  },
  {
   "cell_type": "markdown",
   "metadata": {},
   "source": [
    "# Step 4: Generate the train and test features for the 3 experiments"
   ]
  },
  {
   "cell_type": "code",
   "execution_count": null,
   "metadata": {},
   "outputs": [],
   "source": [
    "# Experiment 1: all augmentation methods vs no augmentation\n",
    "# "
   ]
  }
 ],
 "metadata": {
  "kernelspec": {
   "display_name": "Python 3.10.6 64-bit",
   "language": "python",
   "name": "python3"
  },
  "language_info": {
   "codemirror_mode": {
    "name": "ipython",
    "version": 3
   },
   "file_extension": ".py",
   "mimetype": "text/x-python",
   "name": "python",
   "nbconvert_exporter": "python",
   "pygments_lexer": "ipython3",
   "version": "3.10.6"
  },
  "orig_nbformat": 4,
  "vscode": {
   "interpreter": {
    "hash": "916dbcbb3f70747c44a77c7bcd40155683ae19c65e1c03b4aa3499c5328201f1"
   }
  }
 },
 "nbformat": 4,
 "nbformat_minor": 2
}
