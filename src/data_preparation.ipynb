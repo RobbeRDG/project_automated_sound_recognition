{
 "cells": [
  {
   "cell_type": "markdown",
   "metadata": {},
   "source": [
    "# Data preparation\n",
    "Get the DCASE dataset and take a subset of it"
   ]
  },
  {
   "cell_type": "code",
   "execution_count": 4,
   "metadata": {},
   "outputs": [
    {
     "name": "stdout",
     "output_type": "stream",
     "text": [
      "The autoreload extension is already loaded. To reload it, use:\n",
      "  %reload_ext autoreload\n"
     ]
    }
   ],
   "source": [
    "%load_ext autoreload\n",
    "%autoreload 2\n",
    "\n",
    "from util import config\n",
    "import os\n",
    "import zipfile\n",
    "from os.path import join\n",
    "import random\n",
    "import pandas as pd\n",
    "import numpy as np\n",
    "import shutil\n",
    "\n",
    "# Random seeds for reproducebility\n",
    "random.seed(10)\n",
    "np.random.seed(10)"
   ]
  },
  {
   "cell_type": "markdown",
   "metadata": {},
   "source": [
    "## Step 1: Download and unzip the DCASE 2022 task 1 dataset"
   ]
  },
  {
   "cell_type": "code",
   "execution_count": null,
   "metadata": {},
   "outputs": [],
   "source": [
    "# Get the raw development dataset\n",
    "!zenodo_get -o {config.RAW_FULL_DATA_ZIP_PATH} -d 10.5281/zenodo.6337421"
   ]
  },
  {
   "cell_type": "code",
   "execution_count": null,
   "metadata": {},
   "outputs": [],
   "source": [
    "# After the dataset is downloaded, unzip it\n",
    "for item in os.listdir(config.RAW_FULL_DATA_ZIP_PATH):\n",
    "    if item.endswith(\".zip\"):\n",
    "        # Create a zipfile object and unpack it\n",
    "        zip_ref = zipfile.ZipFile(join(config.RAW_FULL_DATA_ZIP_PATH, item)) \n",
    "        zip_ref.extractall(config.RAW_FULL_DATA_PATH)\n",
    "        zip_ref.close()"
   ]
  },
  {
   "cell_type": "markdown",
   "metadata": {},
   "source": [
    "## Step 2: Randomly pick a subset of the dataset"
   ]
  },
  {
   "cell_type": "code",
   "execution_count": 16,
   "metadata": {},
   "outputs": [],
   "source": [
    "# Since the 139 970 train and 29 680 test data points provided by the DCASE dataset are to many for my current computational resources, \n",
    "# randomly take a subset of 10 000 train and 2 000 test data points\n",
    "\n",
    "# Load the test and train fold csvs\n",
    "train_metadata = pd.read_csv(config.TRAIN_METADATA_FILE, sep='\\t', delimiter=None, names=['filename', 'scene_label'])\n",
    "test_metadata = pd.read_csv(config.TEST_METADATA_FILE, sep='\\t', delimiter=None, names=['filename'])\n",
    "\n",
    "# Randomly sample 10 000 train and 2 000 test data points\n",
    "train_metadata_subset = train_metadata.sample(n=10000)\n",
    "test_metadata_subset = test_metadata.sample(n=2000)\n",
    "\n",
    "# Get the train files list\n",
    "train_files_list = train_metadata_subset[\"filename\"]\n",
    "test_files_list = test_metadata_subset[\"filename\"]\n",
    "\n",
    "# Copy the files to the raw subset folder\n",
    "for train_file in train_files_list:\n",
    "    shutil.copyfile(join(config.RAW_FULL_DATA_PATH, train_file), join(config.RAW_SUBSET_DATA_PATH, f'train/{train_file}'))\n",
    "for test_file in test_files_list:\n",
    "    shutil.copyfile(join(config.RAW_FULL_DATA_PATH, test_file), join(config.RAW_SUBSET_DATA_PATH, f'test/{test_file}'))\n"
   ]
  }
 ],
 "metadata": {
  "kernelspec": {
   "display_name": "Python 3.10.6 64-bit",
   "language": "python",
   "name": "python3"
  },
  "language_info": {
   "codemirror_mode": {
    "name": "ipython",
    "version": 3
   },
   "file_extension": ".py",
   "mimetype": "text/x-python",
   "name": "python",
   "nbconvert_exporter": "python",
   "pygments_lexer": "ipython3",
   "version": "3.10.6"
  },
  "orig_nbformat": 4,
  "vscode": {
   "interpreter": {
    "hash": "916dbcbb3f70747c44a77c7bcd40155683ae19c65e1c03b4aa3499c5328201f1"
   }
  }
 },
 "nbformat": 4,
 "nbformat_minor": 2
}
