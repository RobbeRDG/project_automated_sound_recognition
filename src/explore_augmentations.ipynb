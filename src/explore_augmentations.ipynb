{
 "cells": [
  {
   "cell_type": "code",
   "execution_count": null,
   "metadata": {},
   "outputs": [],
   "source": [
    "from os.path import join\n",
    "\n",
    "def setup_file_system(in_colab):\n",
    "    if in_colab:\n",
    "        from google.colab import drive\n",
    "\n",
    "        # Set the base and mount path\n",
    "        MOUNT_PATH_DRIVE = '/content/drive'\n",
    "        BASE_PATH = join(\n",
    "            MOUNT_PATH_DRIVE, \n",
    "            \"MyDrive/project_asr\"\n",
    "        )\n",
    "\n",
    "        # Mount the google drive\n",
    "        drive.mount(MOUNT_PATH_DRIVE)\n",
    "\n",
    "        return BASE_PATH\n",
    "\n",
    "    else:\n",
    "        return \"/workspaces/project_automated_sound_recognition\""
   ]
  },
  {
   "cell_type": "code",
   "execution_count": null,
   "metadata": {},
   "outputs": [],
   "source": [
    "import sys\n",
    "from os import chdir\n",
    "from os.path import join\n",
    "\n",
    "# Method to check if the notebook is running in colab or local\n",
    "IN_COLAB = 'google.colab' in sys.modules\n",
    "\n",
    "# Set the base path of the project\n",
    "BASE_PATH = setup_file_system(IN_COLAB)\n",
    "\n",
    "# Set the base path of the project\n",
    "chdir(join(BASE_PATH, \"src/\"))"
   ]
  },
  {
   "cell_type": "code",
   "execution_count": null,
   "metadata": {},
   "outputs": [],
   "source": [
    "%load_ext autoreload\n",
    "%autoreload 2\n",
    "\n",
    "from os.path import join\n",
    "import matplotlib.pyplot as plt\n",
    "import torch\n",
    "\n",
    "from dataset.audio_sample_dataset import AudioSampleDataset\n",
    "from util import config, feat_extract"
   ]
  },
  {
   "cell_type": "code",
   "execution_count": null,
   "metadata": {},
   "outputs": [],
   "source": [
    "# Create instance of feature extractor helper function\n",
    "feature_extractor = feat_extract.FE(config.featconf)\n",
    "\n",
    "# Set the audio file to get\n",
    "audio_file_idx = torch.Tensor([6]).long()"
   ]
  },
  {
   "cell_type": "markdown",
   "metadata": {},
   "source": [
    "## Mixup"
   ]
  },
  {
   "cell_type": "code",
   "execution_count": null,
   "metadata": {},
   "outputs": [],
   "source": [
    "# Set the augmentations\n",
    "augmentations = {\n",
    "    'pitch_shift': {\n",
    "        'enabled': False,\n",
    "    },\n",
    "    'noise': {\n",
    "        'enabled': False,\n",
    "    },\n",
    "    'mixup': {\n",
    "        'enabled': True,\n",
    "        'p': 1.0,\n",
    "        'alpha': 0.2,\n",
    "    },\n",
    "    'freq_mask': {\n",
    "        'enabled': False,\n",
    "    },\n",
    "    'time_mask': {\n",
    "        'enabled': False,\n",
    "    }\n",
    "}\n",
    "\n",
    "# Set the dataset\n",
    "train_dataset = AudioSampleDataset(\n",
    "        join(BASE_PATH, config.TRAIN_DATA_PATH),\n",
    "        augmentations\n",
    "    )"
   ]
  },
  {
   "cell_type": "code",
   "execution_count": null,
   "metadata": {},
   "outputs": [],
   "source": [
    "# Get the same file four times\n",
    "returned_waveforms = []\n",
    "for i in range(0,5):\n",
    "    waveform, label = train_dataset.__getitem__(audio_file_idx)\n",
    "    returned_waveforms.append(waveform)"
   ]
  },
  {
   "cell_type": "code",
   "execution_count": null,
   "metadata": {},
   "outputs": [],
   "source": [
    "# Generate a plot of the four waveforms side by side\n",
    "fig, (ax1, ax2, ax3, ax4) = plt.subplots(1, 4)\n",
    "fig.set_size_inches(18.5, 10.5)\n",
    "\n",
    "ax1.imshow(returned_waveforms[0][0])\n",
    "ax1.set_title('Sample 1')\n",
    "ax1.set_xlabel('frames')\n",
    "ax1.set_ylabel('mel')\n",
    "\n",
    "ax2.imshow(returned_waveforms[1][0])\n",
    "ax2.set_title('Sample 2')\n",
    "ax2.set_xlabel('frames')\n",
    "ax2.set_ylabel('mel')\n",
    "\n",
    "ax3.imshow(returned_waveforms[2][0])\n",
    "ax3.set_title('Sample 3')\n",
    "ax3.set_xlabel('frames')\n",
    "ax3.set_ylabel('mel')\n",
    "\n",
    "ax4.imshow(returned_waveforms[3][0])\n",
    "ax4.set_title('Sample 4')\n",
    "ax4.set_xlabel('frames')\n",
    "ax4.set_ylabel('mel')\n",
    "\n",
    "plt.show()"
   ]
  },
  {
   "cell_type": "markdown",
   "metadata": {},
   "source": [
    "## Noise"
   ]
  },
  {
   "cell_type": "code",
   "execution_count": null,
   "metadata": {},
   "outputs": [],
   "source": [
    "# Set the augmentations\n",
    "augmentations = {\n",
    "    'pitch_shift': {\n",
    "        'enabled': False,\n",
    "    },\n",
    "    'noise': {\n",
    "        'enabled': True,\n",
    "        'p': 0.0,\n",
    "        'min_amplitude': 0.001,\n",
    "        'max_amplitude': 0.015,\n",
    "    },\n",
    "    'mixup': {\n",
    "        'enabled': False,\n",
    "    },\n",
    "    'freq_mask': {\n",
    "        'enabled': False,\n",
    "    },\n",
    "    'time_mask': {\n",
    "        'enabled': False,\n",
    "    }\n",
    "}\n",
    "\n",
    "# Set the dataset\n",
    "train_dataset = AudioSampleDataset(\n",
    "        join(BASE_PATH, config.TRAIN_DATA_PATH),\n",
    "        augmentations\n",
    "    )"
   ]
  },
  {
   "cell_type": "code",
   "execution_count": null,
   "metadata": {},
   "outputs": [],
   "source": [
    "# Get the same file four times\n",
    "returned_waveforms = []\n",
    "for i in range(0,5):\n",
    "    waveform, label = train_dataset.__getitem__(audio_file_idx)\n",
    "    returned_waveforms.append(waveform)"
   ]
  },
  {
   "cell_type": "code",
   "execution_count": null,
   "metadata": {},
   "outputs": [],
   "source": [
    "# Generate a plot of the four waveforms side by side\n",
    "fig, (ax1, ax2, ax3, ax4) = plt.subplots(1, 4)\n",
    "fig.set_size_inches(18.5, 10.5)\n",
    "\n",
    "ax1.imshow(returned_waveforms[0][0])\n",
    "ax1.set_title('Sample 1')\n",
    "ax1.set_xlabel('frames')\n",
    "ax1.set_ylabel('mel')\n",
    "\n",
    "ax2.imshow(returned_waveforms[1][0])\n",
    "ax2.set_title('Sample 2')\n",
    "ax2.set_xlabel('frames')\n",
    "ax2.set_ylabel('mel')\n",
    "\n",
    "ax3.imshow(returned_waveforms[2][0])\n",
    "ax3.set_title('Sample 3')\n",
    "ax3.set_xlabel('frames')\n",
    "ax3.set_ylabel('mel')\n",
    "\n",
    "ax4.imshow(returned_waveforms[3][0])\n",
    "ax4.set_title('Sample 4')\n",
    "ax4.set_xlabel('frames')\n",
    "ax4.set_ylabel('mel')\n",
    "\n",
    "plt.show()"
   ]
  },
  {
   "cell_type": "markdown",
   "metadata": {},
   "source": [
    "## Pitch shift"
   ]
  },
  {
   "cell_type": "code",
   "execution_count": null,
   "metadata": {},
   "outputs": [],
   "source": [
    "# Set the augmentations\n",
    "augmentations = {\n",
    "    'pitch_shift': {\n",
    "        'enabled': True,\n",
    "        'p': 1.0,\n",
    "        'min_semitones': -4, \n",
    "        \"max_semitones\": 4,\n",
    "    },\n",
    "    'noise': {\n",
    "        'enabled': False,\n",
    "    },\n",
    "    'mixup': {\n",
    "        'enabled': False,\n",
    "    },\n",
    "    'freq_mask': {\n",
    "        'enabled': False,\n",
    "    },\n",
    "    'time_mask': {\n",
    "        'enabled': False,\n",
    "    }\n",
    "}\n",
    "\n",
    "# Set the dataset\n",
    "train_dataset = AudioSampleDataset(\n",
    "        join(BASE_PATH, config.TRAIN_DATA_PATH),\n",
    "        augmentations\n",
    "    )"
   ]
  },
  {
   "cell_type": "code",
   "execution_count": null,
   "metadata": {},
   "outputs": [],
   "source": [
    "# Get the same file four times\n",
    "returned_waveforms = []\n",
    "for i in range(0,5):\n",
    "    waveform, label = train_dataset.__getitem__(audio_file_idx)\n",
    "    returned_waveforms.append(waveform)"
   ]
  },
  {
   "cell_type": "code",
   "execution_count": null,
   "metadata": {},
   "outputs": [],
   "source": [
    "# Generate a plot of the four waveforms side by side\n",
    "fig, (ax1, ax2, ax3, ax4) = plt.subplots(1, 4)\n",
    "fig.set_size_inches(18.5, 10.5)\n",
    "\n",
    "ax1.imshow(returned_waveforms[0][0])\n",
    "ax1.set_title('Sample 1')\n",
    "ax1.set_xlabel('frames')\n",
    "ax1.set_ylabel('mel')\n",
    "\n",
    "ax2.imshow(returned_waveforms[1][0])\n",
    "ax2.set_title('Sample 2')\n",
    "ax2.set_xlabel('frames')\n",
    "ax2.set_ylabel('mel')\n",
    "\n",
    "ax3.imshow(returned_waveforms[2][0])\n",
    "ax3.set_title('Sample 3')\n",
    "ax3.set_xlabel('frames')\n",
    "ax3.set_ylabel('mel')\n",
    "\n",
    "ax4.imshow(returned_waveforms[3][0])\n",
    "ax4.set_title('Sample 4')\n",
    "ax4.set_xlabel('frames')\n",
    "ax4.set_ylabel('mel')\n",
    "\n",
    "plt.show()"
   ]
  },
  {
   "cell_type": "markdown",
   "metadata": {},
   "source": [
    "## Frequency mask"
   ]
  },
  {
   "cell_type": "code",
   "execution_count": null,
   "metadata": {},
   "outputs": [],
   "source": [
    "# Set the augmentations\n",
    "augmentations = {\n",
    "    'pitch_shift': {\n",
    "        'enabled': False,\n",
    "    },\n",
    "    'noise': {\n",
    "        'enabled': False,\n",
    "    },\n",
    "    'mixup': {\n",
    "        'enabled': False,\n",
    "    },\n",
    "    'freq_mask': {\n",
    "        'enabled': True,\n",
    "        'p': 1.0,\n",
    "        'freq_mask_param': 5,\n",
    "    },\n",
    "    'time_mask': {\n",
    "        'enabled': False,\n",
    "    }\n",
    "}\n",
    "\n",
    "# Set the dataset\n",
    "train_dataset = AudioSampleDataset(\n",
    "        join(BASE_PATH, config.TRAIN_DATA_PATH),\n",
    "        augmentations\n",
    "    )"
   ]
  },
  {
   "cell_type": "code",
   "execution_count": null,
   "metadata": {},
   "outputs": [],
   "source": [
    "# Get the same file four times\n",
    "returned_waveforms = []\n",
    "for i in range(0,5):\n",
    "    waveform, label = train_dataset.__getitem__(audio_file_idx)\n",
    "    returned_waveforms.append(waveform)"
   ]
  },
  {
   "cell_type": "code",
   "execution_count": null,
   "metadata": {},
   "outputs": [],
   "source": [
    "# Generate a plot of the four waveforms side by side\n",
    "fig, (ax1, ax2, ax3, ax4) = plt.subplots(1, 4)\n",
    "fig.set_size_inches(18.5, 10.5)\n",
    "\n",
    "ax1.imshow(returned_waveforms[0][0])\n",
    "ax1.set_title('Sample 1')\n",
    "ax1.set_xlabel('frames')\n",
    "ax1.set_ylabel('mel')\n",
    "\n",
    "ax2.imshow(returned_waveforms[1][0])\n",
    "ax2.set_title('Sample 2')\n",
    "ax2.set_xlabel('frames')\n",
    "ax2.set_ylabel('mel')\n",
    "\n",
    "ax3.imshow(returned_waveforms[2][0])\n",
    "ax3.set_title('Sample 3')\n",
    "ax3.set_xlabel('frames')\n",
    "ax3.set_ylabel('mel')\n",
    "\n",
    "ax4.imshow(returned_waveforms[3][0])\n",
    "ax4.set_title('Sample 4')\n",
    "ax4.set_xlabel('frames')\n",
    "ax4.set_ylabel('mel')\n",
    "\n",
    "plt.show()"
   ]
  },
  {
   "cell_type": "markdown",
   "metadata": {},
   "source": [
    "## Time mask"
   ]
  },
  {
   "cell_type": "code",
   "execution_count": null,
   "metadata": {},
   "outputs": [],
   "source": [
    "# Set the augmentations\n",
    "augmentations = {\n",
    "    'pitch_shift': {\n",
    "        'enabled': False,\n",
    "    },\n",
    "    'noise': {\n",
    "        'enabled': False,\n",
    "    },\n",
    "    'mixup': {\n",
    "        'enabled': False,\n",
    "    },\n",
    "    'freq_mask': {\n",
    "        'enabled': False,\n",
    "    },\n",
    "    'time_mask': {\n",
    "        'enabled': True,\n",
    "        'p': 1.0,\n",
    "        'time_mask_param': 5,\n",
    "    }\n",
    "}\n",
    "\n",
    "# Set the dataset\n",
    "train_dataset = AudioSampleDataset(\n",
    "        join(BASE_PATH, config.TRAIN_DATA_PATH),\n",
    "        augmentations\n",
    "    )"
   ]
  },
  {
   "cell_type": "code",
   "execution_count": null,
   "metadata": {},
   "outputs": [],
   "source": [
    "# Get the same file four times\n",
    "returned_waveforms = []\n",
    "for i in range(0,5):\n",
    "    waveform, label = train_dataset.__getitem__(audio_file_idx)\n",
    "    returned_waveforms.append(waveform)"
   ]
  },
  {
   "cell_type": "code",
   "execution_count": null,
   "metadata": {},
   "outputs": [],
   "source": [
    "# Generate a plot of the four waveforms side by side\n",
    "fig, (ax1, ax2, ax3, ax4) = plt.subplots(1, 4)\n",
    "fig.set_size_inches(18.5, 10.5)\n",
    "\n",
    "ax1.imshow(returned_waveforms[0][0])\n",
    "ax1.set_title('Sample 1')\n",
    "ax1.set_xlabel('frames')\n",
    "ax1.set_ylabel('mel')\n",
    "\n",
    "ax2.imshow(returned_waveforms[1][0])\n",
    "ax2.set_title('Sample 2')\n",
    "ax2.set_xlabel('frames')\n",
    "ax2.set_ylabel('mel')\n",
    "\n",
    "ax3.imshow(returned_waveforms[2][0])\n",
    "ax3.set_title('Sample 3')\n",
    "ax3.set_xlabel('frames')\n",
    "ax3.set_ylabel('mel')\n",
    "\n",
    "ax4.imshow(returned_waveforms[3][0])\n",
    "ax4.set_title('Sample 4')\n",
    "ax4.set_xlabel('frames')\n",
    "ax4.set_ylabel('mel')\n",
    "\n",
    "plt.show()"
   ]
  }
 ],
 "metadata": {
  "kernelspec": {
   "display_name": "Python 3.10.6 64-bit",
   "language": "python",
   "name": "python3"
  },
  "language_info": {
   "codemirror_mode": {
    "name": "ipython",
    "version": 3
   },
   "file_extension": ".py",
   "mimetype": "text/x-python",
   "name": "python",
   "nbconvert_exporter": "python",
   "pygments_lexer": "ipython3",
   "version": "3.10.6"
  },
  "orig_nbformat": 4,
  "vscode": {
   "interpreter": {
    "hash": "916dbcbb3f70747c44a77c7bcd40155683ae19c65e1c03b4aa3499c5328201f1"
   }
  }
 },
 "nbformat": 4,
 "nbformat_minor": 2
}
